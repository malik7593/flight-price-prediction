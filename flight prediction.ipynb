{
 "cells": [
  {
   "cell_type": "code",
   "execution_count": 1,
   "metadata": {},
   "outputs": [],
   "source": [
    "#importing libraries\n",
    "import numpy as np\n",
    "import pandas as pd\n",
    "import matplotlib.pyplot as plt\n",
    "import seaborn as sns\n",
    "from sklearn.metrics import classification_report\n",
    "from sklearn.metrics import confusion_matrix\n",
    "from sklearn.preprocessing import StandardScaler\n",
    "from sklearn.metrics import accuracy_score\n",
    "from sklearn.model_selection import train_test_split\n",
    "import warnings\n",
    "warnings.filterwarnings('ignore')"
   ]
  },
  {
   "cell_type": "code",
   "execution_count": 2,
   "metadata": {},
   "outputs": [
    {
     "data": {
      "text/html": [
       "<div>\n",
       "<style scoped>\n",
       "    .dataframe tbody tr th:only-of-type {\n",
       "        vertical-align: middle;\n",
       "    }\n",
       "\n",
       "    .dataframe tbody tr th {\n",
       "        vertical-align: top;\n",
       "    }\n",
       "\n",
       "    .dataframe thead th {\n",
       "        text-align: right;\n",
       "    }\n",
       "</style>\n",
       "<table border=\"1\" class=\"dataframe\">\n",
       "  <thead>\n",
       "    <tr style=\"text-align: right;\">\n",
       "      <th></th>\n",
       "      <th>Unnamed: 0</th>\n",
       "      <th>Name</th>\n",
       "      <th>id</th>\n",
       "      <th>price</th>\n",
       "      <th>arrival time</th>\n",
       "      <th>departure time</th>\n",
       "      <th>hours taken</th>\n",
       "      <th>starting point</th>\n",
       "      <th>destination</th>\n",
       "      <th>hour taken</th>\n",
       "      <th>minutes taken</th>\n",
       "      <th>minutes taken 2</th>\n",
       "    </tr>\n",
       "  </thead>\n",
       "  <tbody>\n",
       "    <tr>\n",
       "      <th>0</th>\n",
       "      <td>0</td>\n",
       "      <td>Go First</td>\n",
       "      <td>G8-530</td>\n",
       "      <td>5954.0</td>\n",
       "      <td>7:00</td>\n",
       "      <td>9:10</td>\n",
       "      <td>2 10m</td>\n",
       "      <td>New Delhi</td>\n",
       "      <td>Mumbai</td>\n",
       "      <td>2.0</td>\n",
       "      <td>10m</td>\n",
       "      <td>10.0</td>\n",
       "    </tr>\n",
       "    <tr>\n",
       "      <th>1</th>\n",
       "      <td>1</td>\n",
       "      <td>Go First</td>\n",
       "      <td>G8-334</td>\n",
       "      <td>5954.0</td>\n",
       "      <td>8:00</td>\n",
       "      <td>10:10</td>\n",
       "      <td>2 10m</td>\n",
       "      <td>New Delhi</td>\n",
       "      <td>Mumbai</td>\n",
       "      <td>2.0</td>\n",
       "      <td>10m</td>\n",
       "      <td>10.0</td>\n",
       "    </tr>\n",
       "    <tr>\n",
       "      <th>2</th>\n",
       "      <td>2</td>\n",
       "      <td>Go First</td>\n",
       "      <td>G8-354</td>\n",
       "      <td>5954.0</td>\n",
       "      <td>22:30</td>\n",
       "      <td>00:40\\n</td>\n",
       "      <td>2 10m</td>\n",
       "      <td>New Delhi</td>\n",
       "      <td>Mumbai</td>\n",
       "      <td>2.0</td>\n",
       "      <td>10m</td>\n",
       "      <td>10.0</td>\n",
       "    </tr>\n",
       "    <tr>\n",
       "      <th>3</th>\n",
       "      <td>3</td>\n",
       "      <td>Go First</td>\n",
       "      <td>G8-2501</td>\n",
       "      <td>5954.0</td>\n",
       "      <td>2:00</td>\n",
       "      <td>4:15</td>\n",
       "      <td>2 15m</td>\n",
       "      <td>New Delhi</td>\n",
       "      <td>Mumbai</td>\n",
       "      <td>2.0</td>\n",
       "      <td>15m</td>\n",
       "      <td>15.0</td>\n",
       "    </tr>\n",
       "    <tr>\n",
       "      <th>4</th>\n",
       "      <td>4</td>\n",
       "      <td>Go First</td>\n",
       "      <td>G8-336</td>\n",
       "      <td>5954.0</td>\n",
       "      <td>14:20</td>\n",
       "      <td>16:35</td>\n",
       "      <td>2 15m</td>\n",
       "      <td>New Delhi</td>\n",
       "      <td>Mumbai</td>\n",
       "      <td>2.0</td>\n",
       "      <td>15m</td>\n",
       "      <td>15.0</td>\n",
       "    </tr>\n",
       "  </tbody>\n",
       "</table>\n",
       "</div>"
      ],
      "text/plain": [
       "   Unnamed: 0      Name       id   price arrival time departure time  \\\n",
       "0           0  Go First   G8-530  5954.0         7:00           9:10   \n",
       "1           1  Go First   G8-334  5954.0         8:00          10:10   \n",
       "2           2  Go First   G8-354  5954.0        22:30        00:40\\n   \n",
       "3           3  Go First  G8-2501  5954.0         2:00           4:15   \n",
       "4           4  Go First   G8-336  5954.0        14:20          16:35   \n",
       "\n",
       "  hours taken starting point destination  hour taken minutes taken  \\\n",
       "0       2 10m      New Delhi      Mumbai         2.0           10m   \n",
       "1       2 10m      New Delhi      Mumbai         2.0           10m   \n",
       "2       2 10m      New Delhi      Mumbai         2.0           10m   \n",
       "3       2 15m      New Delhi      Mumbai         2.0           15m   \n",
       "4       2 15m      New Delhi      Mumbai         2.0           15m   \n",
       "\n",
       "   minutes taken 2  \n",
       "0             10.0  \n",
       "1             10.0  \n",
       "2             10.0  \n",
       "3             15.0  \n",
       "4             15.0  "
      ]
     },
     "execution_count": 2,
     "metadata": {},
     "output_type": "execute_result"
    }
   ],
   "source": [
    "#fetching data from my drive\n",
    "import pandas as pd\n",
    "data=pd.read_csv(r\"C:\\Users\\malik\\flight1512.csv\")\n",
    "data.head()"
   ]
  },
  {
   "cell_type": "code",
   "execution_count": 3,
   "metadata": {},
   "outputs": [
    {
     "name": "stdout",
     "output_type": "stream",
     "text": [
      "<class 'pandas.core.frame.DataFrame'>\n",
      "RangeIndex: 1610 entries, 0 to 1609\n",
      "Data columns (total 12 columns):\n",
      " #   Column           Non-Null Count  Dtype  \n",
      "---  ------           --------------  -----  \n",
      " 0   Unnamed: 0       1610 non-null   int64  \n",
      " 1   Name             1610 non-null   object \n",
      " 2   id               1610 non-null   object \n",
      " 3   price            1018 non-null   float64\n",
      " 4   arrival time     1470 non-null   object \n",
      " 5   departure time   1158 non-null   object \n",
      " 6   hours taken      998 non-null    object \n",
      " 7   starting point   1590 non-null   object \n",
      " 8   destination      1018 non-null   object \n",
      " 9   hour taken       998 non-null    float64\n",
      " 10  minutes taken    998 non-null    object \n",
      " 11  minutes taken 2  998 non-null    float64\n",
      "dtypes: float64(3), int64(1), object(8)\n",
      "memory usage: 151.1+ KB\n"
     ]
    }
   ],
   "source": [
    "#getting information about data type \n",
    "data.info()"
   ]
  },
  {
   "cell_type": "code",
   "execution_count": 4,
   "metadata": {},
   "outputs": [
    {
     "data": {
      "text/html": [
       "<div>\n",
       "<style scoped>\n",
       "    .dataframe tbody tr th:only-of-type {\n",
       "        vertical-align: middle;\n",
       "    }\n",
       "\n",
       "    .dataframe tbody tr th {\n",
       "        vertical-align: top;\n",
       "    }\n",
       "\n",
       "    .dataframe thead th {\n",
       "        text-align: right;\n",
       "    }\n",
       "</style>\n",
       "<table border=\"1\" class=\"dataframe\">\n",
       "  <thead>\n",
       "    <tr style=\"text-align: right;\">\n",
       "      <th></th>\n",
       "      <th>Unnamed: 0</th>\n",
       "      <th>price</th>\n",
       "      <th>hour taken</th>\n",
       "      <th>minutes taken 2</th>\n",
       "    </tr>\n",
       "  </thead>\n",
       "  <tbody>\n",
       "    <tr>\n",
       "      <th>count</th>\n",
       "      <td>1610.000000</td>\n",
       "      <td>1018.000000</td>\n",
       "      <td>998.000000</td>\n",
       "      <td>998.000000</td>\n",
       "    </tr>\n",
       "    <tr>\n",
       "      <th>mean</th>\n",
       "      <td>262.186335</td>\n",
       "      <td>9286.603143</td>\n",
       "      <td>8.621242</td>\n",
       "      <td>23.306613</td>\n",
       "    </tr>\n",
       "    <tr>\n",
       "      <th>std</th>\n",
       "      <td>196.797960</td>\n",
       "      <td>3641.787012</td>\n",
       "      <td>7.159091</td>\n",
       "      <td>15.766545</td>\n",
       "    </tr>\n",
       "    <tr>\n",
       "      <th>min</th>\n",
       "      <td>0.000000</td>\n",
       "      <td>4262.000000</td>\n",
       "      <td>1.000000</td>\n",
       "      <td>0.000000</td>\n",
       "    </tr>\n",
       "    <tr>\n",
       "      <th>25%</th>\n",
       "      <td>100.000000</td>\n",
       "      <td>6113.000000</td>\n",
       "      <td>2.000000</td>\n",
       "      <td>10.000000</td>\n",
       "    </tr>\n",
       "    <tr>\n",
       "      <th>50%</th>\n",
       "      <td>202.000000</td>\n",
       "      <td>8448.500000</td>\n",
       "      <td>7.000000</td>\n",
       "      <td>20.000000</td>\n",
       "    </tr>\n",
       "    <tr>\n",
       "      <th>75%</th>\n",
       "      <td>403.000000</td>\n",
       "      <td>11048.000000</td>\n",
       "      <td>12.000000</td>\n",
       "      <td>35.000000</td>\n",
       "    </tr>\n",
       "    <tr>\n",
       "      <th>max</th>\n",
       "      <td>734.000000</td>\n",
       "      <td>33836.000000</td>\n",
       "      <td>33.000000</td>\n",
       "      <td>55.000000</td>\n",
       "    </tr>\n",
       "  </tbody>\n",
       "</table>\n",
       "</div>"
      ],
      "text/plain": [
       "        Unnamed: 0         price  hour taken  minutes taken 2\n",
       "count  1610.000000   1018.000000  998.000000       998.000000\n",
       "mean    262.186335   9286.603143    8.621242        23.306613\n",
       "std     196.797960   3641.787012    7.159091        15.766545\n",
       "min       0.000000   4262.000000    1.000000         0.000000\n",
       "25%     100.000000   6113.000000    2.000000        10.000000\n",
       "50%     202.000000   8448.500000    7.000000        20.000000\n",
       "75%     403.000000  11048.000000   12.000000        35.000000\n",
       "max     734.000000  33836.000000   33.000000        55.000000"
      ]
     },
     "execution_count": 4,
     "metadata": {},
     "output_type": "execute_result"
    }
   ],
   "source": [
    "# describeing data mean ,standard deviation etc\n",
    "data.describe()"
   ]
  },
  {
   "cell_type": "code",
   "execution_count": 5,
   "metadata": {},
   "outputs": [
    {
     "data": {
      "text/plain": [
       "(1610, 12)"
      ]
     },
     "execution_count": 5,
     "metadata": {},
     "output_type": "execute_result"
    }
   ],
   "source": [
    "# checking for no of rows and columns\n",
    "data.shape"
   ]
  },
  {
   "cell_type": "code",
   "execution_count": 6,
   "metadata": {},
   "outputs": [
    {
     "data": {
      "text/plain": [
       "Unnamed: 0           0\n",
       "Name                 0\n",
       "id                   0\n",
       "price              592\n",
       "arrival time       140\n",
       "departure time     452\n",
       "hours taken        612\n",
       "starting point      20\n",
       "destination        592\n",
       "hour taken         612\n",
       "minutes taken      612\n",
       "minutes taken 2    612\n",
       "dtype: int64"
      ]
     },
     "execution_count": 6,
     "metadata": {},
     "output_type": "execute_result"
    }
   ],
   "source": [
    "#checking for null values \n",
    "data.isna().sum()"
   ]
  },
  {
   "cell_type": "code",
   "execution_count": 7,
   "metadata": {},
   "outputs": [],
   "source": [
    "#filling null values\n",
    "data.fillna(data.mean(), inplace=True)"
   ]
  },
  {
   "cell_type": "code",
   "execution_count": 8,
   "metadata": {},
   "outputs": [
    {
     "data": {
      "text/plain": [
       "Unnamed: 0           0\n",
       "Name                 0\n",
       "id                   0\n",
       "price                0\n",
       "arrival time       140\n",
       "departure time     452\n",
       "hours taken        612\n",
       "starting point      20\n",
       "destination        592\n",
       "hour taken           0\n",
       "minutes taken      612\n",
       "minutes taken 2      0\n",
       "dtype: int64"
      ]
     },
     "execution_count": 8,
     "metadata": {},
     "output_type": "execute_result"
    }
   ],
   "source": [
    "data.isna().sum()"
   ]
  },
  {
   "cell_type": "code",
   "execution_count": 9,
   "metadata": {},
   "outputs": [],
   "source": [
    "#filling categorical data\n",
    "data.fillna(data.median(), inplace=True)"
   ]
  },
  {
   "cell_type": "code",
   "execution_count": 10,
   "metadata": {},
   "outputs": [
    {
     "data": {
      "text/plain": [
       "Unnamed: 0           0\n",
       "Name                 0\n",
       "id                   0\n",
       "price                0\n",
       "arrival time       140\n",
       "departure time     452\n",
       "hours taken        612\n",
       "starting point      20\n",
       "destination        592\n",
       "hour taken           0\n",
       "minutes taken      612\n",
       "minutes taken 2      0\n",
       "dtype: int64"
      ]
     },
     "execution_count": 10,
     "metadata": {},
     "output_type": "execute_result"
    }
   ],
   "source": [
    "data.isna().sum()"
   ]
  },
  {
   "cell_type": "code",
   "execution_count": 11,
   "metadata": {},
   "outputs": [],
   "source": [
    "# Departure time is when a plane leaves the gate.\n",
    "# Similar to the Date_of_Journey we can extract values from Dep_Time\n",
    "\n",
    "#Extracting Hours \n",
    "data[\"Dep_hour\"] = pd.to_datetime(data[\"departure time\"]).dt.hour\n",
    "\n",
    "# Extracting Minutes \n",
    "data[\"Dep_min\"] = pd.to_datetime(data[\"departure time\"]).dt.minute\n",
    "\n"
   ]
  },
  {
   "cell_type": "code",
   "execution_count": 12,
   "metadata": {},
   "outputs": [],
   "source": [
    "# Now we can drop Dep_Time as it of no use\n",
    "data.drop([\"departure time\"], axis = 1, inplace = True)"
   ]
  },
  {
   "cell_type": "code",
   "execution_count": 13,
   "metadata": {},
   "outputs": [
    {
     "data": {
      "text/html": [
       "<div>\n",
       "<style scoped>\n",
       "    .dataframe tbody tr th:only-of-type {\n",
       "        vertical-align: middle;\n",
       "    }\n",
       "\n",
       "    .dataframe tbody tr th {\n",
       "        vertical-align: top;\n",
       "    }\n",
       "\n",
       "    .dataframe thead th {\n",
       "        text-align: right;\n",
       "    }\n",
       "</style>\n",
       "<table border=\"1\" class=\"dataframe\">\n",
       "  <thead>\n",
       "    <tr style=\"text-align: right;\">\n",
       "      <th></th>\n",
       "      <th>Unnamed: 0</th>\n",
       "      <th>Name</th>\n",
       "      <th>id</th>\n",
       "      <th>price</th>\n",
       "      <th>arrival time</th>\n",
       "      <th>hours taken</th>\n",
       "      <th>starting point</th>\n",
       "      <th>destination</th>\n",
       "      <th>hour taken</th>\n",
       "      <th>minutes taken</th>\n",
       "      <th>minutes taken 2</th>\n",
       "      <th>Dep_hour</th>\n",
       "      <th>Dep_min</th>\n",
       "    </tr>\n",
       "  </thead>\n",
       "  <tbody>\n",
       "    <tr>\n",
       "      <th>0</th>\n",
       "      <td>0</td>\n",
       "      <td>Go First</td>\n",
       "      <td>G8-530</td>\n",
       "      <td>5954.0</td>\n",
       "      <td>7:00</td>\n",
       "      <td>2 10m</td>\n",
       "      <td>New Delhi</td>\n",
       "      <td>Mumbai</td>\n",
       "      <td>2.0</td>\n",
       "      <td>10m</td>\n",
       "      <td>10.0</td>\n",
       "      <td>9.0</td>\n",
       "      <td>10.0</td>\n",
       "    </tr>\n",
       "    <tr>\n",
       "      <th>1</th>\n",
       "      <td>1</td>\n",
       "      <td>Go First</td>\n",
       "      <td>G8-334</td>\n",
       "      <td>5954.0</td>\n",
       "      <td>8:00</td>\n",
       "      <td>2 10m</td>\n",
       "      <td>New Delhi</td>\n",
       "      <td>Mumbai</td>\n",
       "      <td>2.0</td>\n",
       "      <td>10m</td>\n",
       "      <td>10.0</td>\n",
       "      <td>10.0</td>\n",
       "      <td>10.0</td>\n",
       "    </tr>\n",
       "    <tr>\n",
       "      <th>2</th>\n",
       "      <td>2</td>\n",
       "      <td>Go First</td>\n",
       "      <td>G8-354</td>\n",
       "      <td>5954.0</td>\n",
       "      <td>22:30</td>\n",
       "      <td>2 10m</td>\n",
       "      <td>New Delhi</td>\n",
       "      <td>Mumbai</td>\n",
       "      <td>2.0</td>\n",
       "      <td>10m</td>\n",
       "      <td>10.0</td>\n",
       "      <td>0.0</td>\n",
       "      <td>40.0</td>\n",
       "    </tr>\n",
       "  </tbody>\n",
       "</table>\n",
       "</div>"
      ],
      "text/plain": [
       "   Unnamed: 0      Name      id   price arrival time hours taken  \\\n",
       "0           0  Go First  G8-530  5954.0         7:00       2 10m   \n",
       "1           1  Go First  G8-334  5954.0         8:00       2 10m   \n",
       "2           2  Go First  G8-354  5954.0        22:30       2 10m   \n",
       "\n",
       "  starting point destination  hour taken minutes taken  minutes taken 2  \\\n",
       "0      New Delhi      Mumbai         2.0           10m             10.0   \n",
       "1      New Delhi      Mumbai         2.0           10m             10.0   \n",
       "2      New Delhi      Mumbai         2.0           10m             10.0   \n",
       "\n",
       "   Dep_hour  Dep_min  \n",
       "0       9.0     10.0  \n",
       "1      10.0     10.0  \n",
       "2       0.0     40.0  "
      ]
     },
     "execution_count": 13,
     "metadata": {},
     "output_type": "execute_result"
    }
   ],
   "source": [
    "data.head(3)"
   ]
  },
  {
   "cell_type": "code",
   "execution_count": 14,
   "metadata": {},
   "outputs": [],
   "source": [
    "# arrival time .\n",
    "\n",
    "\n",
    "#Extracting Hours \n",
    "data[\"arr_hour\"] = pd.to_datetime(data[\"arrival time\"]).dt.hour\n",
    "\n",
    "# Extracting Minutes \n",
    "data[\"arr_min\"] = pd.to_datetime(data[\"arrival time\"]).dt.minute\n"
   ]
  },
  {
   "cell_type": "code",
   "execution_count": 15,
   "metadata": {},
   "outputs": [
    {
     "data": {
      "text/html": [
       "<div>\n",
       "<style scoped>\n",
       "    .dataframe tbody tr th:only-of-type {\n",
       "        vertical-align: middle;\n",
       "    }\n",
       "\n",
       "    .dataframe tbody tr th {\n",
       "        vertical-align: top;\n",
       "    }\n",
       "\n",
       "    .dataframe thead th {\n",
       "        text-align: right;\n",
       "    }\n",
       "</style>\n",
       "<table border=\"1\" class=\"dataframe\">\n",
       "  <thead>\n",
       "    <tr style=\"text-align: right;\">\n",
       "      <th></th>\n",
       "      <th>Unnamed: 0</th>\n",
       "      <th>Name</th>\n",
       "      <th>id</th>\n",
       "      <th>price</th>\n",
       "      <th>arrival time</th>\n",
       "      <th>hours taken</th>\n",
       "      <th>starting point</th>\n",
       "      <th>destination</th>\n",
       "      <th>hour taken</th>\n",
       "      <th>minutes taken</th>\n",
       "      <th>minutes taken 2</th>\n",
       "      <th>Dep_hour</th>\n",
       "      <th>Dep_min</th>\n",
       "      <th>arr_hour</th>\n",
       "      <th>arr_min</th>\n",
       "    </tr>\n",
       "  </thead>\n",
       "  <tbody>\n",
       "    <tr>\n",
       "      <th>0</th>\n",
       "      <td>0</td>\n",
       "      <td>Go First</td>\n",
       "      <td>G8-530</td>\n",
       "      <td>5954.0</td>\n",
       "      <td>7:00</td>\n",
       "      <td>2 10m</td>\n",
       "      <td>New Delhi</td>\n",
       "      <td>Mumbai</td>\n",
       "      <td>2.0</td>\n",
       "      <td>10m</td>\n",
       "      <td>10.0</td>\n",
       "      <td>9.0</td>\n",
       "      <td>10.0</td>\n",
       "      <td>7.0</td>\n",
       "      <td>0.0</td>\n",
       "    </tr>\n",
       "    <tr>\n",
       "      <th>1</th>\n",
       "      <td>1</td>\n",
       "      <td>Go First</td>\n",
       "      <td>G8-334</td>\n",
       "      <td>5954.0</td>\n",
       "      <td>8:00</td>\n",
       "      <td>2 10m</td>\n",
       "      <td>New Delhi</td>\n",
       "      <td>Mumbai</td>\n",
       "      <td>2.0</td>\n",
       "      <td>10m</td>\n",
       "      <td>10.0</td>\n",
       "      <td>10.0</td>\n",
       "      <td>10.0</td>\n",
       "      <td>8.0</td>\n",
       "      <td>0.0</td>\n",
       "    </tr>\n",
       "    <tr>\n",
       "      <th>2</th>\n",
       "      <td>2</td>\n",
       "      <td>Go First</td>\n",
       "      <td>G8-354</td>\n",
       "      <td>5954.0</td>\n",
       "      <td>22:30</td>\n",
       "      <td>2 10m</td>\n",
       "      <td>New Delhi</td>\n",
       "      <td>Mumbai</td>\n",
       "      <td>2.0</td>\n",
       "      <td>10m</td>\n",
       "      <td>10.0</td>\n",
       "      <td>0.0</td>\n",
       "      <td>40.0</td>\n",
       "      <td>22.0</td>\n",
       "      <td>30.0</td>\n",
       "    </tr>\n",
       "  </tbody>\n",
       "</table>\n",
       "</div>"
      ],
      "text/plain": [
       "   Unnamed: 0      Name      id   price arrival time hours taken  \\\n",
       "0           0  Go First  G8-530  5954.0         7:00       2 10m   \n",
       "1           1  Go First  G8-334  5954.0         8:00       2 10m   \n",
       "2           2  Go First  G8-354  5954.0        22:30       2 10m   \n",
       "\n",
       "  starting point destination  hour taken minutes taken  minutes taken 2  \\\n",
       "0      New Delhi      Mumbai         2.0           10m             10.0   \n",
       "1      New Delhi      Mumbai         2.0           10m             10.0   \n",
       "2      New Delhi      Mumbai         2.0           10m             10.0   \n",
       "\n",
       "   Dep_hour  Dep_min  arr_hour  arr_min  \n",
       "0       9.0     10.0       7.0      0.0  \n",
       "1      10.0     10.0       8.0      0.0  \n",
       "2       0.0     40.0      22.0     30.0  "
      ]
     },
     "execution_count": 15,
     "metadata": {},
     "output_type": "execute_result"
    }
   ],
   "source": [
    "data.head(3)"
   ]
  },
  {
   "cell_type": "code",
   "execution_count": 16,
   "metadata": {},
   "outputs": [],
   "source": [
    "# Now we can drop Dep_Time as it of no use\n",
    "#data.drop([\"arrival time\"], axis = 1, inplace = True)"
   ]
  },
  {
   "cell_type": "code",
   "execution_count": 17,
   "metadata": {},
   "outputs": [
    {
     "data": {
      "text/plain": [
       "IndiGo       550\n",
       "Vistara      335\n",
       "Go First     299\n",
       "Air India    230\n",
       "Air Asia     110\n",
       "SpiceJet      86\n",
       "Name: Name, dtype: int64"
      ]
     },
     "execution_count": 17,
     "metadata": {},
     "output_type": "execute_result"
    }
   ],
   "source": [
    "\n",
    "data[\"Name\"].value_counts()"
   ]
  },
  {
   "cell_type": "code",
   "execution_count": 18,
   "metadata": {},
   "outputs": [
    {
     "data": {
      "image/png": "[encoded data removed]",
      "text/plain": [
       "<Figure size 1296x432 with 1 Axes>"
      ]
     },
     "metadata": {
      "needs_background": "light"
     },
     "output_type": "display_data"
    }
   ],
   "source": [
    "# From grap we can see that go first Airways Business have the highest Price\n",
    "# Apart from the first Airlines almost all are having similar median\n",
    "\n",
    "# Airline vs price \n",
    "sns.catplot(y= \"price\", x = \"Name\", data = data.sort_values(\"price\", ascending = False), kind=\"boxen\", height = 6, aspect = 3)\n",
    "plt.show()"
   ]
  },
  {
   "cell_type": "code",
   "execution_count": 19,
   "metadata": {},
   "outputs": [
    {
     "data": {
      "text/html": [
       "<div>\n",
       "<style scoped>\n",
       "    .dataframe tbody tr th:only-of-type {\n",
       "        vertical-align: middle;\n",
       "    }\n",
       "\n",
       "    .dataframe tbody tr th {\n",
       "        vertical-align: top;\n",
       "    }\n",
       "\n",
       "    .dataframe thead th {\n",
       "        text-align: right;\n",
       "    }\n",
       "</style>\n",
       "<table border=\"1\" class=\"dataframe\">\n",
       "  <thead>\n",
       "    <tr style=\"text-align: right;\">\n",
       "      <th></th>\n",
       "      <th>Name_Air India</th>\n",
       "      <th>Name_Go First</th>\n",
       "      <th>Name_IndiGo</th>\n",
       "      <th>Name_SpiceJet</th>\n",
       "      <th>Name_Vistara</th>\n",
       "    </tr>\n",
       "  </thead>\n",
       "  <tbody>\n",
       "    <tr>\n",
       "      <th>0</th>\n",
       "      <td>0</td>\n",
       "      <td>1</td>\n",
       "      <td>0</td>\n",
       "      <td>0</td>\n",
       "      <td>0</td>\n",
       "    </tr>\n",
       "    <tr>\n",
       "      <th>1</th>\n",
       "      <td>0</td>\n",
       "      <td>1</td>\n",
       "      <td>0</td>\n",
       "      <td>0</td>\n",
       "      <td>0</td>\n",
       "    </tr>\n",
       "    <tr>\n",
       "      <th>2</th>\n",
       "      <td>0</td>\n",
       "      <td>1</td>\n",
       "      <td>0</td>\n",
       "      <td>0</td>\n",
       "      <td>0</td>\n",
       "    </tr>\n",
       "    <tr>\n",
       "      <th>3</th>\n",
       "      <td>0</td>\n",
       "      <td>1</td>\n",
       "      <td>0</td>\n",
       "      <td>0</td>\n",
       "      <td>0</td>\n",
       "    </tr>\n",
       "    <tr>\n",
       "      <th>4</th>\n",
       "      <td>0</td>\n",
       "      <td>1</td>\n",
       "      <td>0</td>\n",
       "      <td>0</td>\n",
       "      <td>0</td>\n",
       "    </tr>\n",
       "  </tbody>\n",
       "</table>\n",
       "</div>"
      ],
      "text/plain": [
       "   Name_Air India  Name_Go First  Name_IndiGo  Name_SpiceJet  Name_Vistara\n",
       "0               0              1            0              0             0\n",
       "1               0              1            0              0             0\n",
       "2               0              1            0              0             0\n",
       "3               0              1            0              0             0\n",
       "4               0              1            0              0             0"
      ]
     },
     "execution_count": 19,
     "metadata": {},
     "output_type": "execute_result"
    }
   ],
   "source": [
    "# As Airline is Nominal Categorical data, we will perform OneHotEncoder\n",
    "\n",
    "Airline = data[[\"Name\"]]\n",
    "Airline = pd.get_dummies(Airline, drop_first =True)\n",
    "\n",
    "Airline.head()"
   ]
  },
  {
   "cell_type": "code",
   "execution_count": 20,
   "metadata": {},
   "outputs": [
    {
     "data": {
      "text/plain": [
       "Mumbai       495\n",
       "Hyderabad    221\n",
       "New Delhi    208\n",
       "Pune          94\n",
       "Name: destination, dtype: int64"
      ]
     },
     "execution_count": 20,
     "metadata": {},
     "output_type": "execute_result"
    }
   ],
   "source": [
    "data[\"destination\"].value_counts()"
   ]
  },
  {
   "cell_type": "code",
   "execution_count": 21,
   "metadata": {},
   "outputs": [
    {
     "data": {
      "text/plain": [
       "<seaborn.axisgrid.FacetGrid at 0x1c51633ff10>"
      ]
     },
     "execution_count": 21,
     "metadata": {},
     "output_type": "execute_result"
    },
    {
     "data": {
      "image/png": "[encoded data removed]",
      "text/plain": [
       "<Figure size 1296x432 with 1 Axes>"
      ]
     },
     "metadata": {
      "needs_background": "light"
     },
     "output_type": "display_data"
    }
   ],
   "source": [
    "# Compare Source and Price\n",
    "\n",
    "\n",
    "sns.catplot(y = \"price\", x= \"destination\", data = data.sort_values(\"price\", ascending = False), kind=\"boxen\", height = 6, aspect = 3)"
   ]
  },
  {
   "cell_type": "code",
   "execution_count": 22,
   "metadata": {},
   "outputs": [
    {
     "data": {
      "text/html": [
       "<div>\n",
       "<style scoped>\n",
       "    .dataframe tbody tr th:only-of-type {\n",
       "        vertical-align: middle;\n",
       "    }\n",
       "\n",
       "    .dataframe tbody tr th {\n",
       "        vertical-align: top;\n",
       "    }\n",
       "\n",
       "    .dataframe thead th {\n",
       "        text-align: right;\n",
       "    }\n",
       "</style>\n",
       "<table border=\"1\" class=\"dataframe\">\n",
       "  <thead>\n",
       "    <tr style=\"text-align: right;\">\n",
       "      <th></th>\n",
       "      <th>starting point_Mumbai</th>\n",
       "      <th>starting point_New Delhi</th>\n",
       "      <th>starting point_Pune</th>\n",
       "    </tr>\n",
       "  </thead>\n",
       "  <tbody>\n",
       "    <tr>\n",
       "      <th>0</th>\n",
       "      <td>0</td>\n",
       "      <td>1</td>\n",
       "      <td>0</td>\n",
       "    </tr>\n",
       "    <tr>\n",
       "      <th>1</th>\n",
       "      <td>0</td>\n",
       "      <td>1</td>\n",
       "      <td>0</td>\n",
       "    </tr>\n",
       "    <tr>\n",
       "      <th>2</th>\n",
       "      <td>0</td>\n",
       "      <td>1</td>\n",
       "      <td>0</td>\n",
       "    </tr>\n",
       "    <tr>\n",
       "      <th>3</th>\n",
       "      <td>0</td>\n",
       "      <td>1</td>\n",
       "      <td>0</td>\n",
       "    </tr>\n",
       "    <tr>\n",
       "      <th>4</th>\n",
       "      <td>0</td>\n",
       "      <td>1</td>\n",
       "      <td>0</td>\n",
       "    </tr>\n",
       "  </tbody>\n",
       "</table>\n",
       "</div>"
      ],
      "text/plain": [
       "   starting point_Mumbai  starting point_New Delhi  starting point_Pune\n",
       "0                      0                         1                    0\n",
       "1                      0                         1                    0\n",
       "2                      0                         1                    0\n",
       "3                      0                         1                    0\n",
       "4                      0                         1                    0"
      ]
     },
     "execution_count": 22,
     "metadata": {},
     "output_type": "execute_result"
    }
   ],
   "source": [
    "# As source is Nominal categorical data, we will perform OneHotEncoding \n",
    "# Bangalore Source can be representated by OOOO\n",
    "Source =data[[\"starting point\"]]\n",
    "\n",
    "Source =pd.get_dummies(Source, drop_first=True)\n",
    "\n",
    "Source.head()"
   ]
  },
  {
   "cell_type": "code",
   "execution_count": 23,
   "metadata": {},
   "outputs": [
    {
     "data": {
      "text/plain": [
       "New Delhi    691\n",
       "Hyderabad    458\n",
       "Mumbai       334\n",
       "Pune         107\n",
       "Name: starting point, dtype: int64"
      ]
     },
     "execution_count": 23,
     "metadata": {},
     "output_type": "execute_result"
    }
   ],
   "source": [
    "data[\"starting point\"].value_counts()"
   ]
  },
  {
   "cell_type": "code",
   "execution_count": 24,
   "metadata": {},
   "outputs": [
    {
     "data": {
      "text/html": [
       "<div>\n",
       "<style scoped>\n",
       "    .dataframe tbody tr th:only-of-type {\n",
       "        vertical-align: middle;\n",
       "    }\n",
       "\n",
       "    .dataframe tbody tr th {\n",
       "        vertical-align: top;\n",
       "    }\n",
       "\n",
       "    .dataframe thead th {\n",
       "        text-align: right;\n",
       "    }\n",
       "</style>\n",
       "<table border=\"1\" class=\"dataframe\">\n",
       "  <thead>\n",
       "    <tr style=\"text-align: right;\">\n",
       "      <th></th>\n",
       "      <th>destination_Mumbai</th>\n",
       "      <th>destination_New Delhi</th>\n",
       "      <th>destination_Pune</th>\n",
       "    </tr>\n",
       "  </thead>\n",
       "  <tbody>\n",
       "    <tr>\n",
       "      <th>0</th>\n",
       "      <td>1</td>\n",
       "      <td>0</td>\n",
       "      <td>0</td>\n",
       "    </tr>\n",
       "    <tr>\n",
       "      <th>1</th>\n",
       "      <td>1</td>\n",
       "      <td>0</td>\n",
       "      <td>0</td>\n",
       "    </tr>\n",
       "    <tr>\n",
       "      <th>2</th>\n",
       "      <td>1</td>\n",
       "      <td>0</td>\n",
       "      <td>0</td>\n",
       "    </tr>\n",
       "    <tr>\n",
       "      <th>3</th>\n",
       "      <td>1</td>\n",
       "      <td>0</td>\n",
       "      <td>0</td>\n",
       "    </tr>\n",
       "    <tr>\n",
       "      <th>4</th>\n",
       "      <td>1</td>\n",
       "      <td>0</td>\n",
       "      <td>0</td>\n",
       "    </tr>\n",
       "  </tbody>\n",
       "</table>\n",
       "</div>"
      ],
      "text/plain": [
       "   destination_Mumbai  destination_New Delhi  destination_Pune\n",
       "0                   1                      0                 0\n",
       "1                   1                      0                 0\n",
       "2                   1                      0                 0\n",
       "3                   1                      0                 0\n",
       "4                   1                      0                 0"
      ]
     },
     "execution_count": 24,
     "metadata": {},
     "output_type": "execute_result"
    }
   ],
   "source": [
    "# As Destination is Nominal categorical data, we will perform OneHotEncoding \n",
    "\n",
    "Destination1 =data[[\"destination\"]]\n",
    "\n",
    "Destination1 =pd.get_dummies(Destination1, drop_first=True)\n",
    "\n",
    "Destination1.head()"
   ]
  },
  {
   "cell_type": "code",
   "execution_count": 25,
   "metadata": {},
   "outputs": [
    {
     "data": {
      "text/html": [
       "<div>\n",
       "<style scoped>\n",
       "    .dataframe tbody tr th:only-of-type {\n",
       "        vertical-align: middle;\n",
       "    }\n",
       "\n",
       "    .dataframe tbody tr th {\n",
       "        vertical-align: top;\n",
       "    }\n",
       "\n",
       "    .dataframe thead th {\n",
       "        text-align: right;\n",
       "    }\n",
       "</style>\n",
       "<table border=\"1\" class=\"dataframe\">\n",
       "  <thead>\n",
       "    <tr style=\"text-align: right;\">\n",
       "      <th></th>\n",
       "      <th>Unnamed: 0</th>\n",
       "      <th>Name</th>\n",
       "      <th>id</th>\n",
       "      <th>price</th>\n",
       "      <th>arrival time</th>\n",
       "      <th>hours taken</th>\n",
       "      <th>starting point</th>\n",
       "      <th>destination</th>\n",
       "      <th>hour taken</th>\n",
       "      <th>minutes taken</th>\n",
       "      <th>minutes taken 2</th>\n",
       "      <th>Dep_hour</th>\n",
       "      <th>Dep_min</th>\n",
       "      <th>arr_hour</th>\n",
       "      <th>arr_min</th>\n",
       "    </tr>\n",
       "  </thead>\n",
       "  <tbody>\n",
       "    <tr>\n",
       "      <th>0</th>\n",
       "      <td>0</td>\n",
       "      <td>Go First</td>\n",
       "      <td>G8-530</td>\n",
       "      <td>5954.0</td>\n",
       "      <td>7:00</td>\n",
       "      <td>2 10m</td>\n",
       "      <td>New Delhi</td>\n",
       "      <td>Mumbai</td>\n",
       "      <td>2.0</td>\n",
       "      <td>10m</td>\n",
       "      <td>10.0</td>\n",
       "      <td>9.0</td>\n",
       "      <td>10.0</td>\n",
       "      <td>7.0</td>\n",
       "      <td>0.0</td>\n",
       "    </tr>\n",
       "    <tr>\n",
       "      <th>1</th>\n",
       "      <td>1</td>\n",
       "      <td>Go First</td>\n",
       "      <td>G8-334</td>\n",
       "      <td>5954.0</td>\n",
       "      <td>8:00</td>\n",
       "      <td>2 10m</td>\n",
       "      <td>New Delhi</td>\n",
       "      <td>Mumbai</td>\n",
       "      <td>2.0</td>\n",
       "      <td>10m</td>\n",
       "      <td>10.0</td>\n",
       "      <td>10.0</td>\n",
       "      <td>10.0</td>\n",
       "      <td>8.0</td>\n",
       "      <td>0.0</td>\n",
       "    </tr>\n",
       "    <tr>\n",
       "      <th>2</th>\n",
       "      <td>2</td>\n",
       "      <td>Go First</td>\n",
       "      <td>G8-354</td>\n",
       "      <td>5954.0</td>\n",
       "      <td>22:30</td>\n",
       "      <td>2 10m</td>\n",
       "      <td>New Delhi</td>\n",
       "      <td>Mumbai</td>\n",
       "      <td>2.0</td>\n",
       "      <td>10m</td>\n",
       "      <td>10.0</td>\n",
       "      <td>0.0</td>\n",
       "      <td>40.0</td>\n",
       "      <td>22.0</td>\n",
       "      <td>30.0</td>\n",
       "    </tr>\n",
       "  </tbody>\n",
       "</table>\n",
       "</div>"
      ],
      "text/plain": [
       "   Unnamed: 0      Name      id   price arrival time hours taken  \\\n",
       "0           0  Go First  G8-530  5954.0         7:00       2 10m   \n",
       "1           1  Go First  G8-334  5954.0         8:00       2 10m   \n",
       "2           2  Go First  G8-354  5954.0        22:30       2 10m   \n",
       "\n",
       "  starting point destination  hour taken minutes taken  minutes taken 2  \\\n",
       "0      New Delhi      Mumbai         2.0           10m             10.0   \n",
       "1      New Delhi      Mumbai         2.0           10m             10.0   \n",
       "2      New Delhi      Mumbai         2.0           10m             10.0   \n",
       "\n",
       "   Dep_hour  Dep_min  arr_hour  arr_min  \n",
       "0       9.0     10.0       7.0      0.0  \n",
       "1      10.0     10.0       8.0      0.0  \n",
       "2       0.0     40.0      22.0     30.0  "
      ]
     },
     "execution_count": 25,
     "metadata": {},
     "output_type": "execute_result"
    }
   ],
   "source": [
    "data.head(3)"
   ]
  },
  {
   "cell_type": "code",
   "execution_count": 26,
   "metadata": {},
   "outputs": [
    {
     "data": {
      "text/plain": [
       "Mumbai       495\n",
       "Hyderabad    221\n",
       "New Delhi    208\n",
       "Pune          94\n",
       "Name: destination, dtype: int64"
      ]
     },
     "execution_count": 26,
     "metadata": {},
     "output_type": "execute_result"
    }
   ],
   "source": [
    "data[\"destination\"].value_counts()"
   ]
  },
  {
   "cell_type": "code",
   "execution_count": 28,
   "metadata": {},
   "outputs": [],
   "source": [
    "# Concatenate dataframe that consist of train_data, Airline, Source,  and Destination\n",
    "data=pd.concat([data,Airline,Source,Destination1], axis=1)"
   ]
  },
  {
   "cell_type": "code",
   "execution_count": 29,
   "metadata": {},
   "outputs": [
    {
     "data": {
      "text/html": [
       "<div>\n",
       "<style scoped>\n",
       "    .dataframe tbody tr th:only-of-type {\n",
       "        vertical-align: middle;\n",
       "    }\n",
       "\n",
       "    .dataframe tbody tr th {\n",
       "        vertical-align: top;\n",
       "    }\n",
       "\n",
       "    .dataframe thead th {\n",
       "        text-align: right;\n",
       "    }\n",
       "</style>\n",
       "<table border=\"1\" class=\"dataframe\">\n",
       "  <thead>\n",
       "    <tr style=\"text-align: right;\">\n",
       "      <th></th>\n",
       "      <th>Unnamed: 0</th>\n",
       "      <th>Name</th>\n",
       "      <th>id</th>\n",
       "      <th>price</th>\n",
       "      <th>arrival time</th>\n",
       "      <th>hours taken</th>\n",
       "      <th>starting point</th>\n",
       "      <th>destination</th>\n",
       "      <th>hour taken</th>\n",
       "      <th>minutes taken</th>\n",
       "      <th>...</th>\n",
       "      <th>Name_Go First</th>\n",
       "      <th>Name_IndiGo</th>\n",
       "      <th>Name_SpiceJet</th>\n",
       "      <th>Name_Vistara</th>\n",
       "      <th>starting point_Mumbai</th>\n",
       "      <th>starting point_New Delhi</th>\n",
       "      <th>starting point_Pune</th>\n",
       "      <th>destination_Mumbai</th>\n",
       "      <th>destination_New Delhi</th>\n",
       "      <th>destination_Pune</th>\n",
       "    </tr>\n",
       "  </thead>\n",
       "  <tbody>\n",
       "    <tr>\n",
       "      <th>0</th>\n",
       "      <td>0</td>\n",
       "      <td>Go First</td>\n",
       "      <td>G8-530</td>\n",
       "      <td>5954.0</td>\n",
       "      <td>7:00</td>\n",
       "      <td>2 10m</td>\n",
       "      <td>New Delhi</td>\n",
       "      <td>Mumbai</td>\n",
       "      <td>2.0</td>\n",
       "      <td>10m</td>\n",
       "      <td>...</td>\n",
       "      <td>1</td>\n",
       "      <td>0</td>\n",
       "      <td>0</td>\n",
       "      <td>0</td>\n",
       "      <td>0</td>\n",
       "      <td>1</td>\n",
       "      <td>0</td>\n",
       "      <td>1</td>\n",
       "      <td>0</td>\n",
       "      <td>0</td>\n",
       "    </tr>\n",
       "    <tr>\n",
       "      <th>1</th>\n",
       "      <td>1</td>\n",
       "      <td>Go First</td>\n",
       "      <td>G8-334</td>\n",
       "      <td>5954.0</td>\n",
       "      <td>8:00</td>\n",
       "      <td>2 10m</td>\n",
       "      <td>New Delhi</td>\n",
       "      <td>Mumbai</td>\n",
       "      <td>2.0</td>\n",
       "      <td>10m</td>\n",
       "      <td>...</td>\n",
       "      <td>1</td>\n",
       "      <td>0</td>\n",
       "      <td>0</td>\n",
       "      <td>0</td>\n",
       "      <td>0</td>\n",
       "      <td>1</td>\n",
       "      <td>0</td>\n",
       "      <td>1</td>\n",
       "      <td>0</td>\n",
       "      <td>0</td>\n",
       "    </tr>\n",
       "    <tr>\n",
       "      <th>2</th>\n",
       "      <td>2</td>\n",
       "      <td>Go First</td>\n",
       "      <td>G8-354</td>\n",
       "      <td>5954.0</td>\n",
       "      <td>22:30</td>\n",
       "      <td>2 10m</td>\n",
       "      <td>New Delhi</td>\n",
       "      <td>Mumbai</td>\n",
       "      <td>2.0</td>\n",
       "      <td>10m</td>\n",
       "      <td>...</td>\n",
       "      <td>1</td>\n",
       "      <td>0</td>\n",
       "      <td>0</td>\n",
       "      <td>0</td>\n",
       "      <td>0</td>\n",
       "      <td>1</td>\n",
       "      <td>0</td>\n",
       "      <td>1</td>\n",
       "      <td>0</td>\n",
       "      <td>0</td>\n",
       "    </tr>\n",
       "  </tbody>\n",
       "</table>\n",
       "<p>3 rows × 26 columns</p>\n",
       "</div>"
      ],
      "text/plain": [
       "   Unnamed: 0      Name      id   price arrival time hours taken  \\\n",
       "0           0  Go First  G8-530  5954.0         7:00       2 10m   \n",
       "1           1  Go First  G8-334  5954.0         8:00       2 10m   \n",
       "2           2  Go First  G8-354  5954.0        22:30       2 10m   \n",
       "\n",
       "  starting point destination  hour taken minutes taken  ...  Name_Go First  \\\n",
       "0      New Delhi      Mumbai         2.0           10m  ...              1   \n",
       "1      New Delhi      Mumbai         2.0           10m  ...              1   \n",
       "2      New Delhi      Mumbai         2.0           10m  ...              1   \n",
       "\n",
       "   Name_IndiGo  Name_SpiceJet  Name_Vistara  starting point_Mumbai  \\\n",
       "0            0              0             0                      0   \n",
       "1            0              0             0                      0   \n",
       "2            0              0             0                      0   \n",
       "\n",
       "   starting point_New Delhi  starting point_Pune  destination_Mumbai  \\\n",
       "0                         1                    0                   1   \n",
       "1                         1                    0                   1   \n",
       "2                         1                    0                   1   \n",
       "\n",
       "   destination_New Delhi  destination_Pune  \n",
       "0                      0                 0  \n",
       "1                      0                 0  \n",
       "2                      0                 0  \n",
       "\n",
       "[3 rows x 26 columns]"
      ]
     },
     "execution_count": 29,
     "metadata": {},
     "output_type": "execute_result"
    }
   ],
   "source": [
    "data.head(3)"
   ]
  },
  {
   "cell_type": "code",
   "execution_count": 30,
   "metadata": {},
   "outputs": [],
   "source": [
    "data.drop([\"Name\",\"starting point\", \"destination\"], axis=1, inplace=True)"
   ]
  },
  {
   "cell_type": "code",
   "execution_count": 31,
   "metadata": {},
   "outputs": [
    {
     "data": {
      "text/html": [
       "<div>\n",
       "<style scoped>\n",
       "    .dataframe tbody tr th:only-of-type {\n",
       "        vertical-align: middle;\n",
       "    }\n",
       "\n",
       "    .dataframe tbody tr th {\n",
       "        vertical-align: top;\n",
       "    }\n",
       "\n",
       "    .dataframe thead th {\n",
       "        text-align: right;\n",
       "    }\n",
       "</style>\n",
       "<table border=\"1\" class=\"dataframe\">\n",
       "  <thead>\n",
       "    <tr style=\"text-align: right;\">\n",
       "      <th></th>\n",
       "      <th>Unnamed: 0</th>\n",
       "      <th>id</th>\n",
       "      <th>price</th>\n",
       "      <th>arrival time</th>\n",
       "      <th>hours taken</th>\n",
       "      <th>hour taken</th>\n",
       "      <th>minutes taken</th>\n",
       "      <th>minutes taken 2</th>\n",
       "      <th>Dep_hour</th>\n",
       "      <th>Dep_min</th>\n",
       "      <th>...</th>\n",
       "      <th>Name_Go First</th>\n",
       "      <th>Name_IndiGo</th>\n",
       "      <th>Name_SpiceJet</th>\n",
       "      <th>Name_Vistara</th>\n",
       "      <th>starting point_Mumbai</th>\n",
       "      <th>starting point_New Delhi</th>\n",
       "      <th>starting point_Pune</th>\n",
       "      <th>destination_Mumbai</th>\n",
       "      <th>destination_New Delhi</th>\n",
       "      <th>destination_Pune</th>\n",
       "    </tr>\n",
       "  </thead>\n",
       "  <tbody>\n",
       "    <tr>\n",
       "      <th>0</th>\n",
       "      <td>0</td>\n",
       "      <td>G8-530</td>\n",
       "      <td>5954.0</td>\n",
       "      <td>7:00</td>\n",
       "      <td>2 10m</td>\n",
       "      <td>2.0</td>\n",
       "      <td>10m</td>\n",
       "      <td>10.0</td>\n",
       "      <td>9.0</td>\n",
       "      <td>10.0</td>\n",
       "      <td>...</td>\n",
       "      <td>1</td>\n",
       "      <td>0</td>\n",
       "      <td>0</td>\n",
       "      <td>0</td>\n",
       "      <td>0</td>\n",
       "      <td>1</td>\n",
       "      <td>0</td>\n",
       "      <td>1</td>\n",
       "      <td>0</td>\n",
       "      <td>0</td>\n",
       "    </tr>\n",
       "    <tr>\n",
       "      <th>1</th>\n",
       "      <td>1</td>\n",
       "      <td>G8-334</td>\n",
       "      <td>5954.0</td>\n",
       "      <td>8:00</td>\n",
       "      <td>2 10m</td>\n",
       "      <td>2.0</td>\n",
       "      <td>10m</td>\n",
       "      <td>10.0</td>\n",
       "      <td>10.0</td>\n",
       "      <td>10.0</td>\n",
       "      <td>...</td>\n",
       "      <td>1</td>\n",
       "      <td>0</td>\n",
       "      <td>0</td>\n",
       "      <td>0</td>\n",
       "      <td>0</td>\n",
       "      <td>1</td>\n",
       "      <td>0</td>\n",
       "      <td>1</td>\n",
       "      <td>0</td>\n",
       "      <td>0</td>\n",
       "    </tr>\n",
       "    <tr>\n",
       "      <th>2</th>\n",
       "      <td>2</td>\n",
       "      <td>G8-354</td>\n",
       "      <td>5954.0</td>\n",
       "      <td>22:30</td>\n",
       "      <td>2 10m</td>\n",
       "      <td>2.0</td>\n",
       "      <td>10m</td>\n",
       "      <td>10.0</td>\n",
       "      <td>0.0</td>\n",
       "      <td>40.0</td>\n",
       "      <td>...</td>\n",
       "      <td>1</td>\n",
       "      <td>0</td>\n",
       "      <td>0</td>\n",
       "      <td>0</td>\n",
       "      <td>0</td>\n",
       "      <td>1</td>\n",
       "      <td>0</td>\n",
       "      <td>1</td>\n",
       "      <td>0</td>\n",
       "      <td>0</td>\n",
       "    </tr>\n",
       "  </tbody>\n",
       "</table>\n",
       "<p>3 rows × 23 columns</p>\n",
       "</div>"
      ],
      "text/plain": [
       "   Unnamed: 0      id   price arrival time hours taken  hour taken  \\\n",
       "0           0  G8-530  5954.0         7:00       2 10m         2.0   \n",
       "1           1  G8-334  5954.0         8:00       2 10m         2.0   \n",
       "2           2  G8-354  5954.0        22:30       2 10m         2.0   \n",
       "\n",
       "  minutes taken  minutes taken 2  Dep_hour  Dep_min  ...  Name_Go First  \\\n",
       "0           10m             10.0       9.0     10.0  ...              1   \n",
       "1           10m             10.0      10.0     10.0  ...              1   \n",
       "2           10m             10.0       0.0     40.0  ...              1   \n",
       "\n",
       "   Name_IndiGo  Name_SpiceJet  Name_Vistara  starting point_Mumbai  \\\n",
       "0            0              0             0                      0   \n",
       "1            0              0             0                      0   \n",
       "2            0              0             0                      0   \n",
       "\n",
       "   starting point_New Delhi  starting point_Pune  destination_Mumbai  \\\n",
       "0                         1                    0                   1   \n",
       "1                         1                    0                   1   \n",
       "2                         1                    0                   1   \n",
       "\n",
       "   destination_New Delhi  destination_Pune  \n",
       "0                      0                 0  \n",
       "1                      0                 0  \n",
       "2                      0                 0  \n",
       "\n",
       "[3 rows x 23 columns]"
      ]
     },
     "execution_count": 31,
     "metadata": {},
     "output_type": "execute_result"
    }
   ],
   "source": [
    "data.head(3)"
   ]
  },
  {
   "cell_type": "code",
   "execution_count": 32,
   "metadata": {},
   "outputs": [],
   "source": [
    "data.drop([\"Unnamed: 0\"], axis=1, inplace=True)"
   ]
  },
  {
   "cell_type": "code",
   "execution_count": 33,
   "metadata": {},
   "outputs": [],
   "source": [
    "data.drop([\"minutes taken\"], axis=1, inplace=True)"
   ]
  },
  {
   "cell_type": "code",
   "execution_count": 34,
   "metadata": {},
   "outputs": [],
   "source": [
    "data.drop([\"hours taken\"], axis=1, inplace=True)"
   ]
  },
  {
   "cell_type": "code",
   "execution_count": 35,
   "metadata": {},
   "outputs": [
    {
     "data": {
      "text/plain": [
       "Index(['id', 'price', 'arrival time', 'hour taken', 'minutes taken 2',\n",
       "       'Dep_hour', 'Dep_min', 'arr_hour', 'arr_min', 'Name_Air India',\n",
       "       'Name_Go First', 'Name_IndiGo', 'Name_SpiceJet', 'Name_Vistara',\n",
       "       'starting point_Mumbai', 'starting point_New Delhi',\n",
       "       'starting point_Pune', 'destination_Mumbai', 'destination_New Delhi',\n",
       "       'destination_Pune'],\n",
       "      dtype='object')"
      ]
     },
     "execution_count": 35,
     "metadata": {},
     "output_type": "execute_result"
    }
   ],
   "source": [
    "data.columns\n"
   ]
  },
  {
   "cell_type": "code",
   "execution_count": 36,
   "metadata": {},
   "outputs": [],
   "source": [
    "#dropping date \n",
    "data.drop(['id'],axis=1,inplace=True)"
   ]
  },
  {
   "cell_type": "code",
   "execution_count": 37,
   "metadata": {},
   "outputs": [
    {
     "data": {
      "text/html": [
       "<div>\n",
       "<style scoped>\n",
       "    .dataframe tbody tr th:only-of-type {\n",
       "        vertical-align: middle;\n",
       "    }\n",
       "\n",
       "    .dataframe tbody tr th {\n",
       "        vertical-align: top;\n",
       "    }\n",
       "\n",
       "    .dataframe thead th {\n",
       "        text-align: right;\n",
       "    }\n",
       "</style>\n",
       "<table border=\"1\" class=\"dataframe\">\n",
       "  <thead>\n",
       "    <tr style=\"text-align: right;\">\n",
       "      <th></th>\n",
       "      <th>price</th>\n",
       "      <th>arrival time</th>\n",
       "      <th>hour taken</th>\n",
       "      <th>minutes taken 2</th>\n",
       "      <th>Dep_hour</th>\n",
       "      <th>Dep_min</th>\n",
       "      <th>arr_hour</th>\n",
       "      <th>arr_min</th>\n",
       "      <th>Name_Air India</th>\n",
       "      <th>Name_Go First</th>\n",
       "      <th>Name_IndiGo</th>\n",
       "      <th>Name_SpiceJet</th>\n",
       "      <th>Name_Vistara</th>\n",
       "      <th>starting point_Mumbai</th>\n",
       "      <th>starting point_New Delhi</th>\n",
       "      <th>starting point_Pune</th>\n",
       "      <th>destination_Mumbai</th>\n",
       "      <th>destination_New Delhi</th>\n",
       "      <th>destination_Pune</th>\n",
       "    </tr>\n",
       "  </thead>\n",
       "  <tbody>\n",
       "    <tr>\n",
       "      <th>0</th>\n",
       "      <td>5954.0</td>\n",
       "      <td>7:00</td>\n",
       "      <td>2.0</td>\n",
       "      <td>10.0</td>\n",
       "      <td>9.0</td>\n",
       "      <td>10.0</td>\n",
       "      <td>7.0</td>\n",
       "      <td>0.0</td>\n",
       "      <td>0</td>\n",
       "      <td>1</td>\n",
       "      <td>0</td>\n",
       "      <td>0</td>\n",
       "      <td>0</td>\n",
       "      <td>0</td>\n",
       "      <td>1</td>\n",
       "      <td>0</td>\n",
       "      <td>1</td>\n",
       "      <td>0</td>\n",
       "      <td>0</td>\n",
       "    </tr>\n",
       "    <tr>\n",
       "      <th>1</th>\n",
       "      <td>5954.0</td>\n",
       "      <td>8:00</td>\n",
       "      <td>2.0</td>\n",
       "      <td>10.0</td>\n",
       "      <td>10.0</td>\n",
       "      <td>10.0</td>\n",
       "      <td>8.0</td>\n",
       "      <td>0.0</td>\n",
       "      <td>0</td>\n",
       "      <td>1</td>\n",
       "      <td>0</td>\n",
       "      <td>0</td>\n",
       "      <td>0</td>\n",
       "      <td>0</td>\n",
       "      <td>1</td>\n",
       "      <td>0</td>\n",
       "      <td>1</td>\n",
       "      <td>0</td>\n",
       "      <td>0</td>\n",
       "    </tr>\n",
       "    <tr>\n",
       "      <th>2</th>\n",
       "      <td>5954.0</td>\n",
       "      <td>22:30</td>\n",
       "      <td>2.0</td>\n",
       "      <td>10.0</td>\n",
       "      <td>0.0</td>\n",
       "      <td>40.0</td>\n",
       "      <td>22.0</td>\n",
       "      <td>30.0</td>\n",
       "      <td>0</td>\n",
       "      <td>1</td>\n",
       "      <td>0</td>\n",
       "      <td>0</td>\n",
       "      <td>0</td>\n",
       "      <td>0</td>\n",
       "      <td>1</td>\n",
       "      <td>0</td>\n",
       "      <td>1</td>\n",
       "      <td>0</td>\n",
       "      <td>0</td>\n",
       "    </tr>\n",
       "    <tr>\n",
       "      <th>3</th>\n",
       "      <td>5954.0</td>\n",
       "      <td>2:00</td>\n",
       "      <td>2.0</td>\n",
       "      <td>15.0</td>\n",
       "      <td>4.0</td>\n",
       "      <td>15.0</td>\n",
       "      <td>2.0</td>\n",
       "      <td>0.0</td>\n",
       "      <td>0</td>\n",
       "      <td>1</td>\n",
       "      <td>0</td>\n",
       "      <td>0</td>\n",
       "      <td>0</td>\n",
       "      <td>0</td>\n",
       "      <td>1</td>\n",
       "      <td>0</td>\n",
       "      <td>1</td>\n",
       "      <td>0</td>\n",
       "      <td>0</td>\n",
       "    </tr>\n",
       "    <tr>\n",
       "      <th>4</th>\n",
       "      <td>5954.0</td>\n",
       "      <td>14:20</td>\n",
       "      <td>2.0</td>\n",
       "      <td>15.0</td>\n",
       "      <td>16.0</td>\n",
       "      <td>35.0</td>\n",
       "      <td>14.0</td>\n",
       "      <td>20.0</td>\n",
       "      <td>0</td>\n",
       "      <td>1</td>\n",
       "      <td>0</td>\n",
       "      <td>0</td>\n",
       "      <td>0</td>\n",
       "      <td>0</td>\n",
       "      <td>1</td>\n",
       "      <td>0</td>\n",
       "      <td>1</td>\n",
       "      <td>0</td>\n",
       "      <td>0</td>\n",
       "    </tr>\n",
       "  </tbody>\n",
       "</table>\n",
       "</div>"
      ],
      "text/plain": [
       "    price arrival time  hour taken  minutes taken 2  Dep_hour  Dep_min  \\\n",
       "0  5954.0         7:00         2.0             10.0       9.0     10.0   \n",
       "1  5954.0         8:00         2.0             10.0      10.0     10.0   \n",
       "2  5954.0        22:30         2.0             10.0       0.0     40.0   \n",
       "3  5954.0         2:00         2.0             15.0       4.0     15.0   \n",
       "4  5954.0        14:20         2.0             15.0      16.0     35.0   \n",
       "\n",
       "   arr_hour  arr_min  Name_Air India  Name_Go First  Name_IndiGo  \\\n",
       "0       7.0      0.0               0              1            0   \n",
       "1       8.0      0.0               0              1            0   \n",
       "2      22.0     30.0               0              1            0   \n",
       "3       2.0      0.0               0              1            0   \n",
       "4      14.0     20.0               0              1            0   \n",
       "\n",
       "   Name_SpiceJet  Name_Vistara  starting point_Mumbai  \\\n",
       "0              0             0                      0   \n",
       "1              0             0                      0   \n",
       "2              0             0                      0   \n",
       "3              0             0                      0   \n",
       "4              0             0                      0   \n",
       "\n",
       "   starting point_New Delhi  starting point_Pune  destination_Mumbai  \\\n",
       "0                         1                    0                   1   \n",
       "1                         1                    0                   1   \n",
       "2                         1                    0                   1   \n",
       "3                         1                    0                   1   \n",
       "4                         1                    0                   1   \n",
       "\n",
       "   destination_New Delhi  destination_Pune  \n",
       "0                      0                 0  \n",
       "1                      0                 0  \n",
       "2                      0                 0  \n",
       "3                      0                 0  \n",
       "4                      0                 0  "
      ]
     },
     "execution_count": 37,
     "metadata": {},
     "output_type": "execute_result"
    }
   ],
   "source": [
    "data.head(5)"
   ]
  },
  {
   "cell_type": "code",
   "execution_count": 38,
   "metadata": {},
   "outputs": [],
   "source": [
    "#dropping date \n",
    "data.drop(['arrival time'],axis=1,inplace=True)"
   ]
  },
  {
   "cell_type": "code",
   "execution_count": 39,
   "metadata": {},
   "outputs": [
    {
     "data": {
      "text/html": [
       "<div>\n",
       "<style scoped>\n",
       "    .dataframe tbody tr th:only-of-type {\n",
       "        vertical-align: middle;\n",
       "    }\n",
       "\n",
       "    .dataframe tbody tr th {\n",
       "        vertical-align: top;\n",
       "    }\n",
       "\n",
       "    .dataframe thead th {\n",
       "        text-align: right;\n",
       "    }\n",
       "</style>\n",
       "<table border=\"1\" class=\"dataframe\">\n",
       "  <thead>\n",
       "    <tr style=\"text-align: right;\">\n",
       "      <th></th>\n",
       "      <th>price</th>\n",
       "      <th>hour taken</th>\n",
       "      <th>minutes taken 2</th>\n",
       "      <th>Dep_hour</th>\n",
       "      <th>Dep_min</th>\n",
       "      <th>arr_hour</th>\n",
       "      <th>arr_min</th>\n",
       "      <th>Name_Air India</th>\n",
       "      <th>Name_Go First</th>\n",
       "      <th>Name_IndiGo</th>\n",
       "      <th>Name_SpiceJet</th>\n",
       "      <th>Name_Vistara</th>\n",
       "      <th>starting point_Mumbai</th>\n",
       "      <th>starting point_New Delhi</th>\n",
       "      <th>starting point_Pune</th>\n",
       "      <th>destination_Mumbai</th>\n",
       "      <th>destination_New Delhi</th>\n",
       "      <th>destination_Pune</th>\n",
       "    </tr>\n",
       "  </thead>\n",
       "  <tbody>\n",
       "    <tr>\n",
       "      <th>0</th>\n",
       "      <td>5954.0</td>\n",
       "      <td>2.0</td>\n",
       "      <td>10.0</td>\n",
       "      <td>9.0</td>\n",
       "      <td>10.0</td>\n",
       "      <td>7.0</td>\n",
       "      <td>0.0</td>\n",
       "      <td>0</td>\n",
       "      <td>1</td>\n",
       "      <td>0</td>\n",
       "      <td>0</td>\n",
       "      <td>0</td>\n",
       "      <td>0</td>\n",
       "      <td>1</td>\n",
       "      <td>0</td>\n",
       "      <td>1</td>\n",
       "      <td>0</td>\n",
       "      <td>0</td>\n",
       "    </tr>\n",
       "    <tr>\n",
       "      <th>1</th>\n",
       "      <td>5954.0</td>\n",
       "      <td>2.0</td>\n",
       "      <td>10.0</td>\n",
       "      <td>10.0</td>\n",
       "      <td>10.0</td>\n",
       "      <td>8.0</td>\n",
       "      <td>0.0</td>\n",
       "      <td>0</td>\n",
       "      <td>1</td>\n",
       "      <td>0</td>\n",
       "      <td>0</td>\n",
       "      <td>0</td>\n",
       "      <td>0</td>\n",
       "      <td>1</td>\n",
       "      <td>0</td>\n",
       "      <td>1</td>\n",
       "      <td>0</td>\n",
       "      <td>0</td>\n",
       "    </tr>\n",
       "    <tr>\n",
       "      <th>2</th>\n",
       "      <td>5954.0</td>\n",
       "      <td>2.0</td>\n",
       "      <td>10.0</td>\n",
       "      <td>0.0</td>\n",
       "      <td>40.0</td>\n",
       "      <td>22.0</td>\n",
       "      <td>30.0</td>\n",
       "      <td>0</td>\n",
       "      <td>1</td>\n",
       "      <td>0</td>\n",
       "      <td>0</td>\n",
       "      <td>0</td>\n",
       "      <td>0</td>\n",
       "      <td>1</td>\n",
       "      <td>0</td>\n",
       "      <td>1</td>\n",
       "      <td>0</td>\n",
       "      <td>0</td>\n",
       "    </tr>\n",
       "  </tbody>\n",
       "</table>\n",
       "</div>"
      ],
      "text/plain": [
       "    price  hour taken  minutes taken 2  Dep_hour  Dep_min  arr_hour  arr_min  \\\n",
       "0  5954.0         2.0             10.0       9.0     10.0       7.0      0.0   \n",
       "1  5954.0         2.0             10.0      10.0     10.0       8.0      0.0   \n",
       "2  5954.0         2.0             10.0       0.0     40.0      22.0     30.0   \n",
       "\n",
       "   Name_Air India  Name_Go First  Name_IndiGo  Name_SpiceJet  Name_Vistara  \\\n",
       "0               0              1            0              0             0   \n",
       "1               0              1            0              0             0   \n",
       "2               0              1            0              0             0   \n",
       "\n",
       "   starting point_Mumbai  starting point_New Delhi  starting point_Pune  \\\n",
       "0                      0                         1                    0   \n",
       "1                      0                         1                    0   \n",
       "2                      0                         1                    0   \n",
       "\n",
       "   destination_Mumbai  destination_New Delhi  destination_Pune  \n",
       "0                   1                      0                 0  \n",
       "1                   1                      0                 0  \n",
       "2                   1                      0                 0  "
      ]
     },
     "execution_count": 39,
     "metadata": {},
     "output_type": "execute_result"
    }
   ],
   "source": [
    "data.head(3)"
   ]
  },
  {
   "cell_type": "code",
   "execution_count": 40,
   "metadata": {},
   "outputs": [],
   "source": [
    "#filling categorical data\n",
    "data.fillna(data.median(), inplace=True)"
   ]
  },
  {
   "cell_type": "code",
   "execution_count": 41,
   "metadata": {},
   "outputs": [
    {
     "data": {
      "text/plain": [
       "price                       0\n",
       "hour taken                  0\n",
       "minutes taken 2             0\n",
       "Dep_hour                    0\n",
       "Dep_min                     0\n",
       "arr_hour                    0\n",
       "arr_min                     0\n",
       "Name_Air India              0\n",
       "Name_Go First               0\n",
       "Name_IndiGo                 0\n",
       "Name_SpiceJet               0\n",
       "Name_Vistara                0\n",
       "starting point_Mumbai       0\n",
       "starting point_New Delhi    0\n",
       "starting point_Pune         0\n",
       "destination_Mumbai          0\n",
       "destination_New Delhi       0\n",
       "destination_Pune            0\n",
       "dtype: int64"
      ]
     },
     "execution_count": 41,
     "metadata": {},
     "output_type": "execute_result"
    }
   ],
   "source": [
    "data.isna().sum()"
   ]
  },
  {
   "cell_type": "code",
   "execution_count": 42,
   "metadata": {},
   "outputs": [],
   "source": [
    "#filling categorical data\n",
    "data.fillna(data.mean(), inplace=True)"
   ]
  },
  {
   "cell_type": "code",
   "execution_count": 43,
   "metadata": {},
   "outputs": [],
   "source": [
    "#filling categorical data\n",
    "data.fillna(data.ffill(), inplace=True)"
   ]
  },
  {
   "cell_type": "code",
   "execution_count": 44,
   "metadata": {},
   "outputs": [
    {
     "data": {
      "text/plain": [
       "<AxesSubplot:>"
      ]
     },
     "execution_count": 44,
     "metadata": {},
     "output_type": "execute_result"
    },
    {
     "data": {
      "image/png": "[encoded data removed]",
      "text/plain": [
       "<Figure size 432x288 with 2 Axes>"
      ]
     },
     "metadata": {
      "needs_background": "light"
     },
     "output_type": "display_data"
    }
   ],
   "source": [
    "# Here we are getting details of the data like null values\n",
    "sns.heatmap(data.isnull())"
   ]
  },
  {
   "cell_type": "code",
   "execution_count": 45,
   "metadata": {},
   "outputs": [
    {
     "data": {
      "text/plain": [
       "price                       float64\n",
       "hour taken                  float64\n",
       "minutes taken 2             float64\n",
       "Dep_hour                    float64\n",
       "Dep_min                     float64\n",
       "arr_hour                    float64\n",
       "arr_min                     float64\n",
       "Name_Air India                uint8\n",
       "Name_Go First                 uint8\n",
       "Name_IndiGo                   uint8\n",
       "Name_SpiceJet                 uint8\n",
       "Name_Vistara                  uint8\n",
       "starting point_Mumbai         uint8\n",
       "starting point_New Delhi      uint8\n",
       "starting point_Pune           uint8\n",
       "destination_Mumbai            uint8\n",
       "destination_New Delhi         uint8\n",
       "destination_Pune              uint8\n",
       "dtype: object"
      ]
     },
     "execution_count": 45,
     "metadata": {},
     "output_type": "execute_result"
    }
   ],
   "source": [
    "data.dtypes"
   ]
  },
  {
   "cell_type": "code",
   "execution_count": 46,
   "metadata": {},
   "outputs": [
    {
     "data": {
      "text/html": [
       "<div>\n",
       "<style scoped>\n",
       "    .dataframe tbody tr th:only-of-type {\n",
       "        vertical-align: middle;\n",
       "    }\n",
       "\n",
       "    .dataframe tbody tr th {\n",
       "        vertical-align: top;\n",
       "    }\n",
       "\n",
       "    .dataframe thead th {\n",
       "        text-align: right;\n",
       "    }\n",
       "</style>\n",
       "<table border=\"1\" class=\"dataframe\">\n",
       "  <thead>\n",
       "    <tr style=\"text-align: right;\">\n",
       "      <th></th>\n",
       "      <th>price</th>\n",
       "      <th>hour taken</th>\n",
       "      <th>minutes taken 2</th>\n",
       "      <th>Dep_hour</th>\n",
       "      <th>Dep_min</th>\n",
       "      <th>arr_hour</th>\n",
       "      <th>arr_min</th>\n",
       "      <th>Name_Air India</th>\n",
       "      <th>Name_Go First</th>\n",
       "      <th>Name_IndiGo</th>\n",
       "      <th>Name_SpiceJet</th>\n",
       "      <th>Name_Vistara</th>\n",
       "      <th>starting point_Mumbai</th>\n",
       "      <th>starting point_New Delhi</th>\n",
       "      <th>starting point_Pune</th>\n",
       "      <th>destination_Mumbai</th>\n",
       "      <th>destination_New Delhi</th>\n",
       "      <th>destination_Pune</th>\n",
       "    </tr>\n",
       "  </thead>\n",
       "  <tbody>\n",
       "    <tr>\n",
       "      <th>0</th>\n",
       "      <td>5954.0</td>\n",
       "      <td>2.0</td>\n",
       "      <td>10.0</td>\n",
       "      <td>9.0</td>\n",
       "      <td>10.0</td>\n",
       "      <td>7.0</td>\n",
       "      <td>0.0</td>\n",
       "      <td>0</td>\n",
       "      <td>1</td>\n",
       "      <td>0</td>\n",
       "      <td>0</td>\n",
       "      <td>0</td>\n",
       "      <td>0</td>\n",
       "      <td>1</td>\n",
       "      <td>0</td>\n",
       "      <td>1</td>\n",
       "      <td>0</td>\n",
       "      <td>0</td>\n",
       "    </tr>\n",
       "    <tr>\n",
       "      <th>1</th>\n",
       "      <td>5954.0</td>\n",
       "      <td>2.0</td>\n",
       "      <td>10.0</td>\n",
       "      <td>10.0</td>\n",
       "      <td>10.0</td>\n",
       "      <td>8.0</td>\n",
       "      <td>0.0</td>\n",
       "      <td>0</td>\n",
       "      <td>1</td>\n",
       "      <td>0</td>\n",
       "      <td>0</td>\n",
       "      <td>0</td>\n",
       "      <td>0</td>\n",
       "      <td>1</td>\n",
       "      <td>0</td>\n",
       "      <td>1</td>\n",
       "      <td>0</td>\n",
       "      <td>0</td>\n",
       "    </tr>\n",
       "    <tr>\n",
       "      <th>2</th>\n",
       "      <td>5954.0</td>\n",
       "      <td>2.0</td>\n",
       "      <td>10.0</td>\n",
       "      <td>0.0</td>\n",
       "      <td>40.0</td>\n",
       "      <td>22.0</td>\n",
       "      <td>30.0</td>\n",
       "      <td>0</td>\n",
       "      <td>1</td>\n",
       "      <td>0</td>\n",
       "      <td>0</td>\n",
       "      <td>0</td>\n",
       "      <td>0</td>\n",
       "      <td>1</td>\n",
       "      <td>0</td>\n",
       "      <td>1</td>\n",
       "      <td>0</td>\n",
       "      <td>0</td>\n",
       "    </tr>\n",
       "    <tr>\n",
       "      <th>3</th>\n",
       "      <td>5954.0</td>\n",
       "      <td>2.0</td>\n",
       "      <td>15.0</td>\n",
       "      <td>4.0</td>\n",
       "      <td>15.0</td>\n",
       "      <td>2.0</td>\n",
       "      <td>0.0</td>\n",
       "      <td>0</td>\n",
       "      <td>1</td>\n",
       "      <td>0</td>\n",
       "      <td>0</td>\n",
       "      <td>0</td>\n",
       "      <td>0</td>\n",
       "      <td>1</td>\n",
       "      <td>0</td>\n",
       "      <td>1</td>\n",
       "      <td>0</td>\n",
       "      <td>0</td>\n",
       "    </tr>\n",
       "    <tr>\n",
       "      <th>4</th>\n",
       "      <td>5954.0</td>\n",
       "      <td>2.0</td>\n",
       "      <td>15.0</td>\n",
       "      <td>16.0</td>\n",
       "      <td>35.0</td>\n",
       "      <td>14.0</td>\n",
       "      <td>20.0</td>\n",
       "      <td>0</td>\n",
       "      <td>1</td>\n",
       "      <td>0</td>\n",
       "      <td>0</td>\n",
       "      <td>0</td>\n",
       "      <td>0</td>\n",
       "      <td>1</td>\n",
       "      <td>0</td>\n",
       "      <td>1</td>\n",
       "      <td>0</td>\n",
       "      <td>0</td>\n",
       "    </tr>\n",
       "  </tbody>\n",
       "</table>\n",
       "</div>"
      ],
      "text/plain": [
       "    price  hour taken  minutes taken 2  Dep_hour  Dep_min  arr_hour  arr_min  \\\n",
       "0  5954.0         2.0             10.0       9.0     10.0       7.0      0.0   \n",
       "1  5954.0         2.0             10.0      10.0     10.0       8.0      0.0   \n",
       "2  5954.0         2.0             10.0       0.0     40.0      22.0     30.0   \n",
       "3  5954.0         2.0             15.0       4.0     15.0       2.0      0.0   \n",
       "4  5954.0         2.0             15.0      16.0     35.0      14.0     20.0   \n",
       "\n",
       "   Name_Air India  Name_Go First  Name_IndiGo  Name_SpiceJet  Name_Vistara  \\\n",
       "0               0              1            0              0             0   \n",
       "1               0              1            0              0             0   \n",
       "2               0              1            0              0             0   \n",
       "3               0              1            0              0             0   \n",
       "4               0              1            0              0             0   \n",
       "\n",
       "   starting point_Mumbai  starting point_New Delhi  starting point_Pune  \\\n",
       "0                      0                         1                    0   \n",
       "1                      0                         1                    0   \n",
       "2                      0                         1                    0   \n",
       "3                      0                         1                    0   \n",
       "4                      0                         1                    0   \n",
       "\n",
       "   destination_Mumbai  destination_New Delhi  destination_Pune  \n",
       "0                   1                      0                 0  \n",
       "1                   1                      0                 0  \n",
       "2                   1                      0                 0  \n",
       "3                   1                      0                 0  \n",
       "4                   1                      0                 0  "
      ]
     },
     "execution_count": 46,
     "metadata": {},
     "output_type": "execute_result"
    }
   ],
   "source": [
    "data.head(5)"
   ]
  },
  {
   "cell_type": "code",
   "execution_count": 47,
   "metadata": {},
   "outputs": [
    {
     "data": {
      "text/plain": [
       "price                       2.329695\n",
       "hour taken                  1.337600\n",
       "minutes taken 2             0.636668\n",
       "Dep_hour                   -0.105629\n",
       "Dep_min                     0.117158\n",
       "arr_hour                   -0.068507\n",
       "arr_min                    -0.066011\n",
       "Name_Air India              2.043145\n",
       "Name_Go First               1.617888\n",
       "Name_IndiGo                 0.668561\n",
       "Name_SpiceJet               3.975778\n",
       "Name_Vistara                1.439645\n",
       "starting point_Mumbai       1.444299\n",
       "starting point_New Delhi    0.286380\n",
       "starting point_Pune         3.484327\n",
       "destination_Mumbai          0.835327\n",
       "destination_New Delhi       2.213113\n",
       "destination_Pune            3.770431\n",
       "dtype: float64"
      ]
     },
     "execution_count": 47,
     "metadata": {},
     "output_type": "execute_result"
    }
   ],
   "source": [
    "#checking skewness\n",
    "data.skew()"
   ]
  },
  {
   "cell_type": "code",
   "execution_count": 48,
   "metadata": {},
   "outputs": [],
   "source": [
    "# removing skweness\n",
    "from sklearn.preprocessing import power_transform\n",
    "df_new=power_transform(data)\n",
    "\n",
    "df_new=pd.DataFrame(df_new,columns=data.columns)"
   ]
  },
  {
   "cell_type": "code",
   "execution_count": 49,
   "metadata": {},
   "outputs": [
    {
     "data": {
      "text/plain": [
       "price                       0.000000\n",
       "hour taken                 -0.011649\n",
       "minutes taken 2             0.008271\n",
       "Dep_hour                   -0.065779\n",
       "Dep_min                    -0.261311\n",
       "arr_hour                   -0.114142\n",
       "arr_min                    -0.394265\n",
       "Name_Air India              2.043145\n",
       "Name_Go First               1.617888\n",
       "Name_IndiGo                 0.668561\n",
       "Name_SpiceJet               3.975778\n",
       "Name_Vistara                1.439645\n",
       "starting point_Mumbai       1.444299\n",
       "starting point_New Delhi    0.286380\n",
       "starting point_Pune         3.484327\n",
       "destination_Mumbai          0.835327\n",
       "destination_New Delhi       2.213113\n",
       "destination_Pune            3.770431\n",
       "dtype: float64"
      ]
     },
     "execution_count": 49,
     "metadata": {},
     "output_type": "execute_result"
    }
   ],
   "source": [
    "df_new.skew()"
   ]
  },
  {
   "cell_type": "code",
   "execution_count": 50,
   "metadata": {},
   "outputs": [
    {
     "name": "stdout",
     "output_type": "stream",
     "text": [
      "<class 'pandas.core.frame.DataFrame'>\n",
      "RangeIndex: 1610 entries, 0 to 1609\n",
      "Data columns (total 18 columns):\n",
      " #   Column                    Non-Null Count  Dtype  \n",
      "---  ------                    --------------  -----  \n",
      " 0   price                     1610 non-null   float64\n",
      " 1   hour taken                1610 non-null   float64\n",
      " 2   minutes taken 2           1610 non-null   float64\n",
      " 3   Dep_hour                  1610 non-null   float64\n",
      " 4   Dep_min                   1610 non-null   float64\n",
      " 5   arr_hour                  1610 non-null   float64\n",
      " 6   arr_min                   1610 non-null   float64\n",
      " 7   Name_Air India            1610 non-null   uint8  \n",
      " 8   Name_Go First             1610 non-null   uint8  \n",
      " 9   Name_IndiGo               1610 non-null   uint8  \n",
      " 10  Name_SpiceJet             1610 non-null   uint8  \n",
      " 11  Name_Vistara              1610 non-null   uint8  \n",
      " 12  starting point_Mumbai     1610 non-null   uint8  \n",
      " 13  starting point_New Delhi  1610 non-null   uint8  \n",
      " 14  starting point_Pune       1610 non-null   uint8  \n",
      " 15  destination_Mumbai        1610 non-null   uint8  \n",
      " 16  destination_New Delhi     1610 non-null   uint8  \n",
      " 17  destination_Pune          1610 non-null   uint8  \n",
      "dtypes: float64(7), uint8(11)\n",
      "memory usage: 105.5 KB\n"
     ]
    }
   ],
   "source": [
    "data.info()"
   ]
  },
  {
   "cell_type": "code",
   "execution_count": 51,
   "metadata": {},
   "outputs": [
    {
     "data": {
      "text/plain": [
       "<function matplotlib.pyplot.tight_layout(*, pad=1.08, h_pad=None, w_pad=None, rect=None)>"
      ]
     },
     "execution_count": 51,
     "metadata": {},
     "output_type": "execute_result"
    },
    {
     "data": {
      "image/png": "[encoded data removed]",
      "text/plain": [
       "<Figure size 1584x1152 with 2 Axes>"
      ]
     },
     "metadata": {
      "needs_background": "light"
     },
     "output_type": "display_data"
    }
   ],
   "source": [
    "#heat map for corelation checking\n",
    "df_corr =data.corr().abs()\n",
    "plt.figure(figsize=(22,16))\n",
    "sns.heatmap(df_corr,  vmin=-1,annot=True,\n",
    "           square=True,center=0,fmt='.2g',linewidths=1,)\n",
    "plt.tight_layout"
   ]
  },
  {
   "cell_type": "code",
   "execution_count": 52,
   "metadata": {},
   "outputs": [
    {
     "data": {
      "image/png": "[encoded data removed]",
      "text/plain": [
       "<Figure size 2880x2880 with 1 Axes>"
      ]
     },
     "metadata": {
      "needs_background": "light"
     },
     "output_type": "display_data"
    }
   ],
   "source": [
    "# plotting boxplot to identify outliers\n",
    "data.boxplot(figsize=[40,40])\n",
    "plt.subplots_adjust(bottom=0.5)\n",
    "plt.show()"
   ]
  },
  {
   "cell_type": "code",
   "execution_count": 53,
   "metadata": {},
   "outputs": [],
   "source": [
    "#removing data of outliers\n",
    "q=data['price'].quantile(0.60)\n",
    "data_cleaned =data[data['price']<q]"
   ]
  },
  {
   "cell_type": "code",
   "execution_count": 54,
   "metadata": {},
   "outputs": [
    {
     "data": {
      "image/png": "[encoded data removed]",
      "text/plain": [
       "<Figure size 2160x3600 with 1 Axes>"
      ]
     },
     "metadata": {
      "needs_background": "light"
     },
     "output_type": "display_data"
    }
   ],
   "source": [
    "# plotting boxplot to identify outliers\n",
    "data.boxplot(figsize=[30,50])\n",
    "plt.subplots_adjust(bottom=0.25)\n",
    "plt.show()"
   ]
  },
  {
   "cell_type": "code",
   "execution_count": 55,
   "metadata": {},
   "outputs": [],
   "source": [
    "# splitting the data in x and y form for test and train\n",
    "y=data['price']\n",
    "\n",
    "x=data.drop(columns=['price'])"
   ]
  },
  {
   "cell_type": "code",
   "execution_count": 56,
   "metadata": {},
   "outputs": [],
   "source": [
    "x_train,x_test,y_train,y_test = train_test_split(x,y,test_size = 0.25)"
   ]
  },
  {
   "cell_type": "code",
   "execution_count": 57,
   "metadata": {},
   "outputs": [
    {
     "data": {
      "text/plain": [
       "LinearRegression()"
      ]
     },
     "execution_count": 57,
     "metadata": {},
     "output_type": "execute_result"
    }
   ],
   "source": [
    "#lr agoritm\n",
    "from sklearn.linear_model import LinearRegression\n",
    "lm=LinearRegression()\n",
    "lm.fit(x,y)"
   ]
  },
  {
   "cell_type": "code",
   "execution_count": 58,
   "metadata": {},
   "outputs": [
    {
     "data": {
      "text/plain": [
       "0.3021677852252852"
      ]
     },
     "execution_count": 58,
     "metadata": {},
     "output_type": "execute_result"
    }
   ],
   "source": [
    "lm.score(x_train,y_train)"
   ]
  },
  {
   "cell_type": "code",
   "execution_count": 59,
   "metadata": {},
   "outputs": [
    {
     "data": {
      "text/plain": [
       "DecisionTreeRegressor()"
      ]
     },
     "execution_count": 59,
     "metadata": {},
     "output_type": "execute_result"
    }
   ],
   "source": [
    "#using dtc algoritm\n",
    "from sklearn.tree import DecisionTreeRegressor\n",
    "clf=DecisionTreeRegressor()\n",
    "clf.fit(x_train,y_train)"
   ]
  },
  {
   "cell_type": "code",
   "execution_count": 60,
   "metadata": {},
   "outputs": [
    {
     "data": {
      "text/plain": [
       "0.8016758909145979"
      ]
     },
     "execution_count": 60,
     "metadata": {},
     "output_type": "execute_result"
    }
   ],
   "source": [
    "clf.score(x_train,y_train)"
   ]
  },
  {
   "cell_type": "code",
   "execution_count": 61,
   "metadata": {},
   "outputs": [],
   "source": [
    "y_pred=clf.predict(x_test)"
   ]
  },
  {
   "cell_type": "code",
   "execution_count": 62,
   "metadata": {},
   "outputs": [
    {
     "data": {
      "text/plain": [
       "0.2571241146246377"
      ]
     },
     "execution_count": 62,
     "metadata": {},
     "output_type": "execute_result"
    }
   ],
   "source": [
    "clf.score(x_test,y_test)"
   ]
  },
  {
   "cell_type": "code",
   "execution_count": 63,
   "metadata": {},
   "outputs": [
    {
     "data": {
      "text/plain": [
       "RandomForestRegressor()"
      ]
     },
     "execution_count": 63,
     "metadata": {},
     "output_type": "execute_result"
    }
   ],
   "source": [
    "from sklearn.ensemble import RandomForestRegressor\n",
    "reg_rf = RandomForestRegressor()\n",
    "reg_rf.fit(x_train,y_train)"
   ]
  },
  {
   "cell_type": "code",
   "execution_count": 64,
   "metadata": {},
   "outputs": [],
   "source": [
    "y_pred =reg_rf.predict(x_test)"
   ]
  },
  {
   "cell_type": "code",
   "execution_count": 65,
   "metadata": {},
   "outputs": [
    {
     "data": {
      "text/plain": [
       "0.7744426750862808"
      ]
     },
     "execution_count": 65,
     "metadata": {},
     "output_type": "execute_result"
    }
   ],
   "source": [
    "reg_rf.score(x_train,y_train)"
   ]
  },
  {
   "cell_type": "code",
   "execution_count": 66,
   "metadata": {},
   "outputs": [
    {
     "data": {
      "text/plain": [
       "0.4683799169344872"
      ]
     },
     "execution_count": 66,
     "metadata": {},
     "output_type": "execute_result"
    }
   ],
   "source": [
    "\n",
    "reg_rf.score(x_test,y_test)"
   ]
  },
  {
   "cell_type": "code",
   "execution_count": 67,
   "metadata": {},
   "outputs": [
    {
     "data": {
      "image/png": "[encoded data removed]",
      "text/plain": [
       "<Figure size 360x360 with 1 Axes>"
      ]
     },
     "metadata": {
      "needs_background": "light"
     },
     "output_type": "display_data"
    }
   ],
   "source": [
    "sns.displot(y_test-y_pred)\n",
    "plt.show()"
   ]
  },
  {
   "cell_type": "code",
   "execution_count": 68,
   "metadata": {},
   "outputs": [
    {
     "data": {
      "image/png": "[encoded data removed]",
      "text/plain": [
       "<Figure size 432x288 with 1 Axes>"
      ]
     },
     "metadata": {
      "needs_background": "light"
     },
     "output_type": "display_data"
    }
   ],
   "source": [
    "plt.scatter(y_test,y_pred,alpha =0.5,color=\"DarkBlue\")\n",
    "plt.xlabel(\"y_test\")\n",
    "plt.ylabel(\"y_pred\")\n",
    "plt.show()\n"
   ]
  },
  {
   "cell_type": "code",
   "execution_count": 69,
   "metadata": {},
   "outputs": [],
   "source": [
    "\n",
    "from sklearn import metrics"
   ]
  },
  {
   "cell_type": "code",
   "execution_count": 70,
   "metadata": {},
   "outputs": [
    {
     "name": "stdout",
     "output_type": "stream",
     "text": [
      "MAE: 891.3001793729239\n",
      "MSE: 4903836.106948889\n",
      "RMSE: 2214.4606808315402\n"
     ]
    }
   ],
   "source": [
    "print(\"MAE:\" , metrics.mean_absolute_error(y_test,y_pred))\n",
    "print(\"MSE:\" , metrics.mean_squared_error(y_test,y_pred))\n",
    "print(\"RMSE:\" , np.sqrt(metrics.mean_squared_error(y_test,y_pred)))"
   ]
  },
  {
   "cell_type": "code",
   "execution_count": 71,
   "metadata": {},
   "outputs": [
    {
     "data": {
      "text/plain": [
       "0.4683799169344872"
      ]
     },
     "execution_count": 71,
     "metadata": {},
     "output_type": "execute_result"
    }
   ],
   "source": [
    "metrics.r2_score(y_test, y_pred)"
   ]
  },
  {
   "cell_type": "code",
   "execution_count": 72,
   "metadata": {},
   "outputs": [],
   "source": [
    "from sklearn.model_selection import RandomizedSearchCV"
   ]
  },
  {
   "cell_type": "code",
   "execution_count": 73,
   "metadata": {},
   "outputs": [],
   "source": [
    "#Randomized Search CV\n",
    "\n",
    "# Number of trees in random forest\n",
    "n_estimators = [int(x) for x in np.linspace(start = 100, stop = 1200, num = 12)]\n",
    "# Number of features to consider at every split\n",
    "max_features = ['auto', 'sqrt']\n",
    "# Maximum number of levels in tree\n",
    "max_depth = [int(x) for x in np.linspace(5, 30, num = 6)]\n",
    "# Minimum number of samples required to split a node\n",
    "min_samples_split = [2, 5, 10, 15, 100]\n",
    "# Minimum number of samples required at each leaf node\n",
    "min_samples_leaf = [1, 2, 5, 10]"
   ]
  },
  {
   "cell_type": "code",
   "execution_count": 74,
   "metadata": {},
   "outputs": [],
   "source": [
    "# Create the random grid\n",
    "\n",
    "random_grid = {'n_estimators': n_estimators,\n",
    "               'max_features': max_features,\n",
    "               'max_depth': max_depth,\n",
    "               'min_samples_split': min_samples_split,\n",
    "               'min_samples_leaf': min_samples_leaf}"
   ]
  },
  {
   "cell_type": "code",
   "execution_count": 75,
   "metadata": {},
   "outputs": [],
   "source": [
    "# Random search of parameters, using 5 fold cross validation, \n",
    "# search across 100 different combinations\n",
    "rf_random = RandomizedSearchCV(estimator = reg_rf, param_distributions = random_grid,scoring='neg_mean_squared_error', n_iter = 10, cv = 5, verbose=2, random_state=42, n_jobs = 1)"
   ]
  },
  {
   "cell_type": "code",
   "execution_count": 76,
   "metadata": {},
   "outputs": [
    {
     "name": "stdout",
     "output_type": "stream",
     "text": [
      "Fitting 5 folds for each of 10 candidates, totalling 50 fits\n",
      "[CV] END max_depth=10, max_features=sqrt, min_samples_leaf=5, min_samples_split=5, n_estimators=900; total time=   2.8s\n",
      "[CV] END max_depth=10, max_features=sqrt, min_samples_leaf=5, min_samples_split=5, n_estimators=900; total time=   3.1s\n",
      "[CV] END max_depth=10, max_features=sqrt, min_samples_leaf=5, min_samples_split=5, n_estimators=900; total time=   3.2s\n",
      "[CV] END max_depth=10, max_features=sqrt, min_samples_leaf=5, min_samples_split=5, n_estimators=900; total time=   3.2s\n",
      "[CV] END max_depth=10, max_features=sqrt, min_samples_leaf=5, min_samples_split=5, n_estimators=900; total time=   3.4s\n",
      "[CV] END max_depth=15, max_features=sqrt, min_samples_leaf=2, min_samples_split=10, n_estimators=1100; total time=   4.1s\n",
      "[CV] END max_depth=15, max_features=sqrt, min_samples_leaf=2, min_samples_split=10, n_estimators=1100; total time=   4.2s\n",
      "[CV] END max_depth=15, max_features=sqrt, min_samples_leaf=2, min_samples_split=10, n_estimators=1100; total time=   4.1s\n",
      "[CV] END max_depth=15, max_features=sqrt, min_samples_leaf=2, min_samples_split=10, n_estimators=1100; total time=   4.2s\n",
      "[CV] END max_depth=15, max_features=sqrt, min_samples_leaf=2, min_samples_split=10, n_estimators=1100; total time=   4.7s\n",
      "[CV] END max_depth=15, max_features=auto, min_samples_leaf=5, min_samples_split=100, n_estimators=300; total time=   1.5s\n",
      "[CV] END max_depth=15, max_features=auto, min_samples_leaf=5, min_samples_split=100, n_estimators=300; total time=   1.2s\n",
      "[CV] END max_depth=15, max_features=auto, min_samples_leaf=5, min_samples_split=100, n_estimators=300; total time=   1.3s\n",
      "[CV] END max_depth=15, max_features=auto, min_samples_leaf=5, min_samples_split=100, n_estimators=300; total time=   1.4s\n",
      "[CV] END max_depth=15, max_features=auto, min_samples_leaf=5, min_samples_split=100, n_estimators=300; total time=   1.3s\n",
      "[CV] END max_depth=15, max_features=auto, min_samples_leaf=5, min_samples_split=5, n_estimators=400; total time=   2.2s\n",
      "[CV] END max_depth=15, max_features=auto, min_samples_leaf=5, min_samples_split=5, n_estimators=400; total time=   2.0s\n",
      "[CV] END max_depth=15, max_features=auto, min_samples_leaf=5, min_samples_split=5, n_estimators=400; total time=   2.0s\n",
      "[CV] END max_depth=15, max_features=auto, min_samples_leaf=5, min_samples_split=5, n_estimators=400; total time=   2.1s\n",
      "[CV] END max_depth=15, max_features=auto, min_samples_leaf=5, min_samples_split=5, n_estimators=400; total time=   2.1s\n",
      "[CV] END max_depth=20, max_features=auto, min_samples_leaf=10, min_samples_split=5, n_estimators=700; total time=   3.4s\n",
      "[CV] END max_depth=20, max_features=auto, min_samples_leaf=10, min_samples_split=5, n_estimators=700; total time=   3.4s\n",
      "[CV] END max_depth=20, max_features=auto, min_samples_leaf=10, min_samples_split=5, n_estimators=700; total time=   3.4s\n",
      "[CV] END max_depth=20, max_features=auto, min_samples_leaf=10, min_samples_split=5, n_estimators=700; total time=   3.2s\n",
      "[CV] END max_depth=20, max_features=auto, min_samples_leaf=10, min_samples_split=5, n_estimators=700; total time=   3.3s\n",
      "[CV] END max_depth=25, max_features=sqrt, min_samples_leaf=1, min_samples_split=2, n_estimators=1000; total time=   4.0s\n",
      "[CV] END max_depth=25, max_features=sqrt, min_samples_leaf=1, min_samples_split=2, n_estimators=1000; total time=   3.9s\n",
      "[CV] END max_depth=25, max_features=sqrt, min_samples_leaf=1, min_samples_split=2, n_estimators=1000; total time=   3.9s\n",
      "[CV] END max_depth=25, max_features=sqrt, min_samples_leaf=1, min_samples_split=2, n_estimators=1000; total time=   4.0s\n",
      "[CV] END max_depth=25, max_features=sqrt, min_samples_leaf=1, min_samples_split=2, n_estimators=1000; total time=   3.8s\n",
      "[CV] END max_depth=5, max_features=sqrt, min_samples_leaf=10, min_samples_split=15, n_estimators=1100; total time=   3.3s\n",
      "[CV] END max_depth=5, max_features=sqrt, min_samples_leaf=10, min_samples_split=15, n_estimators=1100; total time=   3.2s\n",
      "[CV] END max_depth=5, max_features=sqrt, min_samples_leaf=10, min_samples_split=15, n_estimators=1100; total time=   3.2s\n",
      "[CV] END max_depth=5, max_features=sqrt, min_samples_leaf=10, min_samples_split=15, n_estimators=1100; total time=   3.2s\n",
      "[CV] END max_depth=5, max_features=sqrt, min_samples_leaf=10, min_samples_split=15, n_estimators=1100; total time=   3.1s\n",
      "[CV] END max_depth=15, max_features=sqrt, min_samples_leaf=1, min_samples_split=15, n_estimators=300; total time=   0.9s\n",
      "[CV] END max_depth=15, max_features=sqrt, min_samples_leaf=1, min_samples_split=15, n_estimators=300; total time=   0.9s\n",
      "[CV] END max_depth=15, max_features=sqrt, min_samples_leaf=1, min_samples_split=15, n_estimators=300; total time=   1.0s\n",
      "[CV] END max_depth=15, max_features=sqrt, min_samples_leaf=1, min_samples_split=15, n_estimators=300; total time=   1.1s\n",
      "[CV] END max_depth=15, max_features=sqrt, min_samples_leaf=1, min_samples_split=15, n_estimators=300; total time=   1.1s\n",
      "[CV] END max_depth=5, max_features=sqrt, min_samples_leaf=2, min_samples_split=10, n_estimators=700; total time=   3.0s\n",
      "[CV] END max_depth=5, max_features=sqrt, min_samples_leaf=2, min_samples_split=10, n_estimators=700; total time=   2.7s\n",
      "[CV] END max_depth=5, max_features=sqrt, min_samples_leaf=2, min_samples_split=10, n_estimators=700; total time=   1.9s\n",
      "[CV] END max_depth=5, max_features=sqrt, min_samples_leaf=2, min_samples_split=10, n_estimators=700; total time=   2.4s\n",
      "[CV] END max_depth=5, max_features=sqrt, min_samples_leaf=2, min_samples_split=10, n_estimators=700; total time=   2.3s\n",
      "[CV] END max_depth=20, max_features=auto, min_samples_leaf=1, min_samples_split=15, n_estimators=700; total time=   4.2s\n",
      "[CV] END max_depth=20, max_features=auto, min_samples_leaf=1, min_samples_split=15, n_estimators=700; total time=   4.2s\n",
      "[CV] END max_depth=20, max_features=auto, min_samples_leaf=1, min_samples_split=15, n_estimators=700; total time=   3.9s\n",
      "[CV] END max_depth=20, max_features=auto, min_samples_leaf=1, min_samples_split=15, n_estimators=700; total time=   4.1s\n",
      "[CV] END max_depth=20, max_features=auto, min_samples_leaf=1, min_samples_split=15, n_estimators=700; total time=   3.7s\n"
     ]
    },
    {
     "data": {
      "text/plain": [
       "RandomizedSearchCV(cv=5, estimator=RandomForestRegressor(), n_jobs=1,\n",
       "                   param_distributions={'max_depth': [5, 10, 15, 20, 25, 30],\n",
       "                                        'max_features': ['auto', 'sqrt'],\n",
       "                                        'min_samples_leaf': [1, 2, 5, 10],\n",
       "                                        'min_samples_split': [2, 5, 10, 15,\n",
       "                                                              100],\n",
       "                                        'n_estimators': [100, 200, 300, 400,\n",
       "                                                         500, 600, 700, 800,\n",
       "                                                         900, 1000, 1100,\n",
       "                                                         1200]},\n",
       "                   random_state=42, scoring='neg_mean_squared_error',\n",
       "                   verbose=2)"
      ]
     },
     "execution_count": 76,
     "metadata": {},
     "output_type": "execute_result"
    }
   ],
   "source": [
    "rf_random.fit(x_train,y_train)"
   ]
  },
  {
   "cell_type": "code",
   "execution_count": 77,
   "metadata": {},
   "outputs": [
    {
     "data": {
      "text/plain": [
       "{'n_estimators': 1100,\n",
       " 'min_samples_split': 10,\n",
       " 'min_samples_leaf': 2,\n",
       " 'max_features': 'sqrt',\n",
       " 'max_depth': 15}"
      ]
     },
     "execution_count": 77,
     "metadata": {},
     "output_type": "execute_result"
    }
   ],
   "source": [
    "rf_random.best_params_"
   ]
  },
  {
   "cell_type": "code",
   "execution_count": 78,
   "metadata": {},
   "outputs": [],
   "source": [
    "\n",
    "prediction = rf_random.predict(x_test)"
   ]
  },
  {
   "cell_type": "code",
   "execution_count": 79,
   "metadata": {},
   "outputs": [
    {
     "data": {
      "text/plain": [
       "<Figure size 576x576 with 0 Axes>"
      ]
     },
     "metadata": {},
     "output_type": "display_data"
    },
    {
     "data": {
      "image/png": "[encoded data removed]",
      "text/plain": [
       "<Figure size 360x360 with 1 Axes>"
      ]
     },
     "metadata": {
      "needs_background": "light"
     },
     "output_type": "display_data"
    }
   ],
   "source": [
    "plt.figure(figsize =(8,8))\n",
    "sns.displot(y_test-prediction)\n",
    "plt.show()\n"
   ]
  },
  {
   "cell_type": "code",
   "execution_count": 80,
   "metadata": {},
   "outputs": [
    {
     "data": {
      "image/png": "[encoded data removed]",
      "text/plain": [
       "<Figure size 432x288 with 1 Axes>"
      ]
     },
     "metadata": {
      "needs_background": "light"
     },
     "output_type": "display_data"
    }
   ],
   "source": [
    "plt.scatter(y_test,prediction,alpha =0.5,color=\"DarkBlue\")\n",
    "plt.xlabel(\"y_test\")\n",
    "plt.ylabel(\"y_pred\")\n",
    "plt.show()\n"
   ]
  },
  {
   "cell_type": "code",
   "execution_count": 81,
   "metadata": {},
   "outputs": [
    {
     "name": "stdout",
     "output_type": "stream",
     "text": [
      "MAE: 984.4738096490603\n",
      "MSE: 4978916.473970062\n",
      "RMSE: 2231.3485774235414\n"
     ]
    }
   ],
   "source": [
    "print(\"MAE:\" , metrics.mean_absolute_error(y_test,prediction))\n",
    "print(\"MSE:\" , metrics.mean_squared_error(y_test,prediction))\n",
    "print(\"RMSE:\" , np.sqrt(metrics.mean_squared_error(y_test,prediction)))"
   ]
  },
  {
   "cell_type": "code",
   "execution_count": 82,
   "metadata": {},
   "outputs": [],
   "source": [
    "import pickle\n",
    "# open a file, where you ant to store the data\n",
    "file = open('flight_rf.pkl', 'wb')\n",
    "\n",
    "# dump information to that file\n",
    "pickle.dump(rf_random, file)"
   ]
  },
  {
   "cell_type": "code",
   "execution_count": null,
   "metadata": {},
   "outputs": [],
   "source": []
  }
 ],
 "metadata": {
  "kernelspec": {
   "display_name": "Python 3",
   "language": "python",
   "name": "python3"
  },
  "language_info": {
   "codemirror_mode": {
    "name": "ipython",
    "version": 3
   },
   "file_extension": ".py",
   "mimetype": "text/x-python",
   "name": "python",
   "nbconvert_exporter": "python",
   "pygments_lexer": "ipython3",
   "version": "3.8.5"
  }
 },
 "nbformat": 4,
 "nbformat_minor": 4
}
